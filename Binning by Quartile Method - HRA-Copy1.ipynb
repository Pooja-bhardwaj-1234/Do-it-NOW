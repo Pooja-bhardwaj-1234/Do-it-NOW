{
 "cells": [
  {
   "cell_type": "code",
   "execution_count": 1,
   "id": "e9ca52a1",
   "metadata": {},
   "outputs": [],
   "source": [
    "import pandas as pd\n",
    "df=pd.read_excel(\"C:\\\\Users\\\\pbbha\\\\OneDrive\\\\Desktop\\\\Term 4\\\\HRA\\\\Skewnesss- Original.xlsx\")"
   ]
  },
  {
   "cell_type": "code",
   "execution_count": 2,
   "id": "e972eb53",
   "metadata": {},
   "outputs": [
    {
     "data": {
      "text/html": [
       "<div>\n",
       "<style scoped>\n",
       "    .dataframe tbody tr th:only-of-type {\n",
       "        vertical-align: middle;\n",
       "    }\n",
       "\n",
       "    .dataframe tbody tr th {\n",
       "        vertical-align: top;\n",
       "    }\n",
       "\n",
       "    .dataframe thead th {\n",
       "        text-align: right;\n",
       "    }\n",
       "</style>\n",
       "<table border=\"1\" class=\"dataframe\">\n",
       "  <thead>\n",
       "    <tr style=\"text-align: right;\">\n",
       "      <th></th>\n",
       "      <th>manager_sat</th>\n",
       "      <th>employee_sat</th>\n",
       "      <th>salary_2017</th>\n",
       "      <th>percent_salary_hike</th>\n",
       "      <th>age</th>\n",
       "    </tr>\n",
       "  </thead>\n",
       "  <tbody>\n",
       "    <tr>\n",
       "      <th>0</th>\n",
       "      <td>81</td>\n",
       "      <td>80</td>\n",
       "      <td>119968</td>\n",
       "      <td>0.952381</td>\n",
       "      <td>41</td>\n",
       "    </tr>\n",
       "    <tr>\n",
       "      <th>1</th>\n",
       "      <td>88</td>\n",
       "      <td>84</td>\n",
       "      <td>99330</td>\n",
       "      <td>1.818182</td>\n",
       "      <td>49</td>\n",
       "    </tr>\n",
       "    <tr>\n",
       "      <th>2</th>\n",
       "      <td>83</td>\n",
       "      <td>93</td>\n",
       "      <td>102511</td>\n",
       "      <td>1.739130</td>\n",
       "      <td>37</td>\n",
       "    </tr>\n",
       "    <tr>\n",
       "      <th>3</th>\n",
       "      <td>86</td>\n",
       "      <td>83</td>\n",
       "      <td>56674</td>\n",
       "      <td>1.666667</td>\n",
       "      <td>33</td>\n",
       "    </tr>\n",
       "    <tr>\n",
       "      <th>4</th>\n",
       "      <td>79</td>\n",
       "      <td>80</td>\n",
       "      <td>122021</td>\n",
       "      <td>2.400000</td>\n",
       "      <td>27</td>\n",
       "    </tr>\n",
       "    <tr>\n",
       "      <th>...</th>\n",
       "      <td>...</td>\n",
       "      <td>...</td>\n",
       "      <td>...</td>\n",
       "      <td>...</td>\n",
       "      <td>...</td>\n",
       "    </tr>\n",
       "    <tr>\n",
       "      <th>681</th>\n",
       "      <td>79</td>\n",
       "      <td>80</td>\n",
       "      <td>74999</td>\n",
       "      <td>9.743590</td>\n",
       "      <td>38</td>\n",
       "    </tr>\n",
       "    <tr>\n",
       "      <th>682</th>\n",
       "      <td>79</td>\n",
       "      <td>80</td>\n",
       "      <td>74999</td>\n",
       "      <td>9.772404</td>\n",
       "      <td>32</td>\n",
       "    </tr>\n",
       "    <tr>\n",
       "      <th>683</th>\n",
       "      <td>79</td>\n",
       "      <td>80</td>\n",
       "      <td>74999</td>\n",
       "      <td>9.772727</td>\n",
       "      <td>25</td>\n",
       "    </tr>\n",
       "    <tr>\n",
       "      <th>684</th>\n",
       "      <td>79</td>\n",
       "      <td>80</td>\n",
       "      <td>74999</td>\n",
       "      <td>9.744681</td>\n",
       "      <td>40</td>\n",
       "    </tr>\n",
       "    <tr>\n",
       "      <th>685</th>\n",
       "      <td>79</td>\n",
       "      <td>80</td>\n",
       "      <td>74000</td>\n",
       "      <td>9.759207</td>\n",
       "      <td>26</td>\n",
       "    </tr>\n",
       "  </tbody>\n",
       "</table>\n",
       "<p>686 rows × 5 columns</p>\n",
       "</div>"
      ],
      "text/plain": [
       "     manager_sat  employee_sat  salary_2017  percent_salary_hike  age\n",
       "0             81            80       119968             0.952381   41\n",
       "1             88            84        99330             1.818182   49\n",
       "2             83            93       102511             1.739130   37\n",
       "3             86            83        56674             1.666667   33\n",
       "4             79            80       122021             2.400000   27\n",
       "..           ...           ...          ...                  ...  ...\n",
       "681           79            80        74999             9.743590   38\n",
       "682           79            80        74999             9.772404   32\n",
       "683           79            80        74999             9.772727   25\n",
       "684           79            80        74999             9.744681   40\n",
       "685           79            80        74000             9.759207   26\n",
       "\n",
       "[686 rows x 5 columns]"
      ]
     },
     "execution_count": 2,
     "metadata": {},
     "output_type": "execute_result"
    }
   ],
   "source": [
    "df"
   ]
  },
  {
   "cell_type": "code",
   "execution_count": 5,
   "id": "ce74b928",
   "metadata": {},
   "outputs": [
    {
     "data": {
      "text/plain": [
       "0.00    18.0\n",
       "0.25    30.0\n",
       "0.50    35.5\n",
       "0.75    43.0\n",
       "1.00    60.0\n",
       "Name: age, dtype: float64"
      ]
     },
     "execution_count": 5,
     "metadata": {},
     "output_type": "execute_result"
    }
   ],
   "source": [
    "df[\"age\"].quantile([.0,.25,.5,.75,1])"
   ]
  },
  {
   "cell_type": "code",
   "execution_count": 29,
   "id": "78f78780",
   "metadata": {},
   "outputs": [],
   "source": [
    "bins=[18,30,35.5,43,60]"
   ]
  },
  {
   "cell_type": "code",
   "execution_count": 30,
   "id": "a383d1cd",
   "metadata": {},
   "outputs": [
    {
     "data": {
      "text/plain": [
       "[18, 30, 35.5, 43, 60]"
      ]
     },
     "execution_count": 30,
     "metadata": {},
     "output_type": "execute_result"
    }
   ],
   "source": [
    "bins"
   ]
  },
  {
   "cell_type": "code",
   "execution_count": 31,
   "id": "4ae8d14a",
   "metadata": {},
   "outputs": [],
   "source": [
    "df['binned']=pd.cut(df['age'],bins)"
   ]
  },
  {
   "cell_type": "code",
   "execution_count": 32,
   "id": "fda75bb9",
   "metadata": {},
   "outputs": [
    {
     "data": {
      "text/plain": [
       "0      (35.5, 43.0]\n",
       "1      (43.0, 60.0]\n",
       "2      (35.5, 43.0]\n",
       "3      (30.0, 35.5]\n",
       "4      (18.0, 30.0]\n",
       "           ...     \n",
       "681    (35.5, 43.0]\n",
       "682    (30.0, 35.5]\n",
       "683    (18.0, 30.0]\n",
       "684    (35.5, 43.0]\n",
       "685    (18.0, 30.0]\n",
       "Name: binned, Length: 686, dtype: category\n",
       "Categories (4, interval[float64, right]): [(18.0, 30.0] < (30.0, 35.5] < (35.5, 43.0] < (43.0, 60.0]]"
      ]
     },
     "execution_count": 32,
     "metadata": {},
     "output_type": "execute_result"
    }
   ],
   "source": [
    "df[\"binned\"]"
   ]
  },
  {
   "cell_type": "code",
   "execution_count": 33,
   "id": "0cdb49d1",
   "metadata": {},
   "outputs": [
    {
     "data": {
      "text/plain": [
       "(35.5, 43.0]    184\n",
       "(18.0, 30.0]    183\n",
       "(43.0, 60.0]    159\n",
       "(30.0, 35.5]    157\n",
       "Name: binned, dtype: int64"
      ]
     },
     "execution_count": 33,
     "metadata": {},
     "output_type": "execute_result"
    }
   ],
   "source": [
    "df['binned'].value_counts()"
   ]
  },
  {
   "cell_type": "code",
   "execution_count": 34,
   "id": "bfdb5837",
   "metadata": {},
   "outputs": [
    {
     "data": {
      "text/plain": [
       "18"
      ]
     },
     "execution_count": 34,
     "metadata": {},
     "output_type": "execute_result"
    }
   ],
   "source": [
    "df['age'].min()"
   ]
  },
  {
   "cell_type": "code",
   "execution_count": 35,
   "id": "c5190ad0",
   "metadata": {},
   "outputs": [
    {
     "data": {
      "text/plain": [
       "60"
      ]
     },
     "execution_count": 35,
     "metadata": {},
     "output_type": "execute_result"
    }
   ],
   "source": [
    "df['age'].max()"
   ]
  },
  {
   "cell_type": "code",
   "execution_count": 36,
   "id": "dde1a259",
   "metadata": {},
   "outputs": [],
   "source": [
    "bins=[18,32,46,60]"
   ]
  },
  {
   "cell_type": "code",
   "execution_count": 37,
   "id": "cfd8925c",
   "metadata": {},
   "outputs": [],
   "source": [
    "df['binned1']=pd.cut(df['age'],bins)"
   ]
  },
  {
   "cell_type": "code",
   "execution_count": 38,
   "id": "454441e0",
   "metadata": {},
   "outputs": [
    {
     "data": {
      "text/plain": [
       "0      (32, 46]\n",
       "1      (46, 60]\n",
       "2      (32, 46]\n",
       "3      (32, 46]\n",
       "4      (18, 32]\n",
       "         ...   \n",
       "681    (32, 46]\n",
       "682    (18, 32]\n",
       "683    (18, 32]\n",
       "684    (32, 46]\n",
       "685    (18, 32]\n",
       "Name: binned1, Length: 686, dtype: category\n",
       "Categories (3, interval[int64, right]): [(18, 32] < (32, 46] < (46, 60]]"
      ]
     },
     "execution_count": 38,
     "metadata": {},
     "output_type": "execute_result"
    }
   ],
   "source": [
    "df['binned1']"
   ]
  },
  {
   "cell_type": "code",
   "execution_count": 39,
   "id": "3f266cf7",
   "metadata": {},
   "outputs": [
    {
     "data": {
      "text/plain": [
       "(32, 46]    319\n",
       "(18, 32]    247\n",
       "(46, 60]    117\n",
       "Name: binned1, dtype: int64"
      ]
     },
     "execution_count": 39,
     "metadata": {},
     "output_type": "execute_result"
    }
   ],
   "source": [
    "df['binned1'].value_counts()"
   ]
  },
  {
   "cell_type": "code",
   "execution_count": null,
   "id": "8b04d1ef",
   "metadata": {},
   "outputs": [],
   "source": []
  }
 ],
 "metadata": {
  "kernelspec": {
   "display_name": "Python 3 (ipykernel)",
   "language": "python",
   "name": "python3"
  },
  "language_info": {
   "codemirror_mode": {
    "name": "ipython",
    "version": 3
   },
   "file_extension": ".py",
   "mimetype": "text/x-python",
   "name": "python",
   "nbconvert_exporter": "python",
   "pygments_lexer": "ipython3",
   "version": "3.11.4"
  }
 },
 "nbformat": 4,
 "nbformat_minor": 5
}
