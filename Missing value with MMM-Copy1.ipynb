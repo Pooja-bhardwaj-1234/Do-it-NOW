{
 "cells": [
  {
   "cell_type": "code",
   "execution_count": 4,
   "id": "5c5279f7",
   "metadata": {},
   "outputs": [],
   "source": [
    "import pandas as pd\n",
    "df=pd.read_excel(\"C:\\\\Users\\\\pbbha\\\\OneDrive\\\\Desktop\\\\Term 4\\\\HRA\\\\missing data1- Original.xlsx\")"
   ]
  },
  {
   "cell_type": "code",
   "execution_count": 5,
   "id": "01a9e67b",
   "metadata": {},
   "outputs": [
    {
     "data": {
      "text/html": [
       "<div>\n",
       "<style scoped>\n",
       "    .dataframe tbody tr th:only-of-type {\n",
       "        vertical-align: middle;\n",
       "    }\n",
       "\n",
       "    .dataframe tbody tr th {\n",
       "        vertical-align: top;\n",
       "    }\n",
       "\n",
       "    .dataframe thead th {\n",
       "        text-align: right;\n",
       "    }\n",
       "</style>\n",
       "<table border=\"1\" class=\"dataframe\">\n",
       "  <thead>\n",
       "    <tr style=\"text-align: right;\">\n",
       "      <th></th>\n",
       "      <th>e_code</th>\n",
       "      <th>status</th>\n",
       "      <th>hire_date</th>\n",
       "      <th>service_agreement</th>\n",
       "      <th>job_level</th>\n",
       "      <th>performance_rating_2018</th>\n",
       "      <th>performance_rating_2017</th>\n",
       "      <th>year_of_birth</th>\n",
       "      <th>gender</th>\n",
       "      <th>distance_from_home</th>\n",
       "      <th>...</th>\n",
       "      <th>potential_rating</th>\n",
       "      <th>bonus</th>\n",
       "      <th>no_courses_taken</th>\n",
       "      <th>time_in_position</th>\n",
       "      <th>awards</th>\n",
       "      <th>signon</th>\n",
       "      <th>manager_sat</th>\n",
       "      <th>employee_sat</th>\n",
       "      <th>salary_2017</th>\n",
       "      <th>salary_2018</th>\n",
       "    </tr>\n",
       "  </thead>\n",
       "  <tbody>\n",
       "    <tr>\n",
       "      <th>0</th>\n",
       "      <td>45631</td>\n",
       "      <td>0</td>\n",
       "      <td>1990-09-17</td>\n",
       "      <td>N</td>\n",
       "      <td>3</td>\n",
       "      <td>4</td>\n",
       "      <td>3</td>\n",
       "      <td>1967</td>\n",
       "      <td>M</td>\n",
       "      <td>0.52</td>\n",
       "      <td>...</td>\n",
       "      <td>5</td>\n",
       "      <td>0</td>\n",
       "      <td>8</td>\n",
       "      <td>30</td>\n",
       "      <td>N</td>\n",
       "      <td>N</td>\n",
       "      <td>81</td>\n",
       "      <td>80.0</td>\n",
       "      <td>119968</td>\n",
       "      <td>124173</td>\n",
       "    </tr>\n",
       "    <tr>\n",
       "      <th>1</th>\n",
       "      <td>45632</td>\n",
       "      <td>0</td>\n",
       "      <td>1995-10-23</td>\n",
       "      <td>N</td>\n",
       "      <td>2</td>\n",
       "      <td>1</td>\n",
       "      <td>2</td>\n",
       "      <td>1971</td>\n",
       "      <td>M</td>\n",
       "      <td>0.08</td>\n",
       "      <td>...</td>\n",
       "      <td>5</td>\n",
       "      <td>2242</td>\n",
       "      <td>6</td>\n",
       "      <td>5</td>\n",
       "      <td>N</td>\n",
       "      <td>N</td>\n",
       "      <td>88</td>\n",
       "      <td>84.0</td>\n",
       "      <td>99330</td>\n",
       "      <td>100822</td>\n",
       "    </tr>\n",
       "    <tr>\n",
       "      <th>2</th>\n",
       "      <td>45633</td>\n",
       "      <td>0</td>\n",
       "      <td>1996-03-10</td>\n",
       "      <td>N</td>\n",
       "      <td>2</td>\n",
       "      <td>4</td>\n",
       "      <td>4</td>\n",
       "      <td>1972</td>\n",
       "      <td>M</td>\n",
       "      <td>0.51</td>\n",
       "      <td>...</td>\n",
       "      <td>3</td>\n",
       "      <td>0</td>\n",
       "      <td>2</td>\n",
       "      <td>53</td>\n",
       "      <td>N</td>\n",
       "      <td>N</td>\n",
       "      <td>83</td>\n",
       "      <td>93.0</td>\n",
       "      <td>102511</td>\n",
       "      <td>115500</td>\n",
       "    </tr>\n",
       "    <tr>\n",
       "      <th>3</th>\n",
       "      <td>45634</td>\n",
       "      <td>0</td>\n",
       "      <td>1998-07-13</td>\n",
       "      <td>N</td>\n",
       "      <td>1</td>\n",
       "      <td>3</td>\n",
       "      <td>3</td>\n",
       "      <td>1968</td>\n",
       "      <td>F</td>\n",
       "      <td>0.81</td>\n",
       "      <td>...</td>\n",
       "      <td>5</td>\n",
       "      <td>2320</td>\n",
       "      <td>2</td>\n",
       "      <td>36</td>\n",
       "      <td>N</td>\n",
       "      <td>N</td>\n",
       "      <td>86</td>\n",
       "      <td>83.0</td>\n",
       "      <td>56674</td>\n",
       "      <td>58806</td>\n",
       "    </tr>\n",
       "    <tr>\n",
       "      <th>4</th>\n",
       "      <td>45635</td>\n",
       "      <td>0</td>\n",
       "      <td>1991-09-16</td>\n",
       "      <td>N</td>\n",
       "      <td>2</td>\n",
       "      <td>3</td>\n",
       "      <td>3</td>\n",
       "      <td>1961</td>\n",
       "      <td>M</td>\n",
       "      <td>0.06</td>\n",
       "      <td>...</td>\n",
       "      <td>5</td>\n",
       "      <td>0</td>\n",
       "      <td>10</td>\n",
       "      <td>2</td>\n",
       "      <td>N</td>\n",
       "      <td>N</td>\n",
       "      <td>79</td>\n",
       "      <td>80.0</td>\n",
       "      <td>122021</td>\n",
       "      <td>122021</td>\n",
       "    </tr>\n",
       "    <tr>\n",
       "      <th>...</th>\n",
       "      <td>...</td>\n",
       "      <td>...</td>\n",
       "      <td>...</td>\n",
       "      <td>...</td>\n",
       "      <td>...</td>\n",
       "      <td>...</td>\n",
       "      <td>...</td>\n",
       "      <td>...</td>\n",
       "      <td>...</td>\n",
       "      <td>...</td>\n",
       "      <td>...</td>\n",
       "      <td>...</td>\n",
       "      <td>...</td>\n",
       "      <td>...</td>\n",
       "      <td>...</td>\n",
       "      <td>...</td>\n",
       "      <td>...</td>\n",
       "      <td>...</td>\n",
       "      <td>...</td>\n",
       "      <td>...</td>\n",
       "      <td>...</td>\n",
       "    </tr>\n",
       "    <tr>\n",
       "      <th>681</th>\n",
       "      <td>46267</td>\n",
       "      <td>1</td>\n",
       "      <td>2008-07-07</td>\n",
       "      <td>N</td>\n",
       "      <td>3</td>\n",
       "      <td>3</td>\n",
       "      <td>3</td>\n",
       "      <td>1966</td>\n",
       "      <td>M</td>\n",
       "      <td>1.10</td>\n",
       "      <td>...</td>\n",
       "      <td>4</td>\n",
       "      <td>6438</td>\n",
       "      <td>0</td>\n",
       "      <td>17</td>\n",
       "      <td>N</td>\n",
       "      <td>N</td>\n",
       "      <td>79</td>\n",
       "      <td>80.0</td>\n",
       "      <td>74999</td>\n",
       "      <td>75900</td>\n",
       "    </tr>\n",
       "    <tr>\n",
       "      <th>682</th>\n",
       "      <td>46290</td>\n",
       "      <td>1</td>\n",
       "      <td>2011-07-25</td>\n",
       "      <td>N</td>\n",
       "      <td>1</td>\n",
       "      <td>2</td>\n",
       "      <td>3</td>\n",
       "      <td>1981</td>\n",
       "      <td>M</td>\n",
       "      <td>25.27</td>\n",
       "      <td>...</td>\n",
       "      <td>3</td>\n",
       "      <td>0</td>\n",
       "      <td>0</td>\n",
       "      <td>17</td>\n",
       "      <td>N</td>\n",
       "      <td>N</td>\n",
       "      <td>79</td>\n",
       "      <td>80.0</td>\n",
       "      <td>74999</td>\n",
       "      <td>75900</td>\n",
       "    </tr>\n",
       "    <tr>\n",
       "      <th>683</th>\n",
       "      <td>46312</td>\n",
       "      <td>1</td>\n",
       "      <td>2012-11-26</td>\n",
       "      <td>N</td>\n",
       "      <td>1</td>\n",
       "      <td>3</td>\n",
       "      <td>3</td>\n",
       "      <td>1967</td>\n",
       "      <td>M</td>\n",
       "      <td>1.09</td>\n",
       "      <td>...</td>\n",
       "      <td>3</td>\n",
       "      <td>0</td>\n",
       "      <td>3</td>\n",
       "      <td>43</td>\n",
       "      <td>N</td>\n",
       "      <td>N</td>\n",
       "      <td>79</td>\n",
       "      <td>80.0</td>\n",
       "      <td>74999</td>\n",
       "      <td>75900</td>\n",
       "    </tr>\n",
       "    <tr>\n",
       "      <th>684</th>\n",
       "      <td>46336</td>\n",
       "      <td>1</td>\n",
       "      <td>2002-07-04</td>\n",
       "      <td>N</td>\n",
       "      <td>1</td>\n",
       "      <td>3</td>\n",
       "      <td>3</td>\n",
       "      <td>1980</td>\n",
       "      <td>F</td>\n",
       "      <td>0.34</td>\n",
       "      <td>...</td>\n",
       "      <td>4</td>\n",
       "      <td>0</td>\n",
       "      <td>3</td>\n",
       "      <td>27</td>\n",
       "      <td>Y</td>\n",
       "      <td>N</td>\n",
       "      <td>79</td>\n",
       "      <td>80.0</td>\n",
       "      <td>74999</td>\n",
       "      <td>75900</td>\n",
       "    </tr>\n",
       "    <tr>\n",
       "      <th>685</th>\n",
       "      <td>46359</td>\n",
       "      <td>1</td>\n",
       "      <td>2015-03-02</td>\n",
       "      <td>Y</td>\n",
       "      <td>4</td>\n",
       "      <td>3</td>\n",
       "      <td>3</td>\n",
       "      <td>1963</td>\n",
       "      <td>M</td>\n",
       "      <td>38.62</td>\n",
       "      <td>...</td>\n",
       "      <td>5</td>\n",
       "      <td>10476</td>\n",
       "      <td>0</td>\n",
       "      <td>14</td>\n",
       "      <td>N</td>\n",
       "      <td>Y</td>\n",
       "      <td>79</td>\n",
       "      <td>80.0</td>\n",
       "      <td>74000</td>\n",
       "      <td>75900</td>\n",
       "    </tr>\n",
       "  </tbody>\n",
       "</table>\n",
       "<p>686 rows × 23 columns</p>\n",
       "</div>"
      ],
      "text/plain": [
       "     e_code  status  hire_date service_agreement  job_level  \\\n",
       "0     45631       0 1990-09-17                 N          3   \n",
       "1     45632       0 1995-10-23                 N          2   \n",
       "2     45633       0 1996-03-10                 N          2   \n",
       "3     45634       0 1998-07-13                 N          1   \n",
       "4     45635       0 1991-09-16                 N          2   \n",
       "..      ...     ...        ...               ...        ...   \n",
       "681   46267       1 2008-07-07                 N          3   \n",
       "682   46290       1 2011-07-25                 N          1   \n",
       "683   46312       1 2012-11-26                 N          1   \n",
       "684   46336       1 2002-07-04                 N          1   \n",
       "685   46359       1 2015-03-02                 Y          4   \n",
       "\n",
       "     performance_rating_2018  performance_rating_2017  year_of_birth gender  \\\n",
       "0                          4                        3           1967      M   \n",
       "1                          1                        2           1971      M   \n",
       "2                          4                        4           1972      M   \n",
       "3                          3                        3           1968      F   \n",
       "4                          3                        3           1961      M   \n",
       "..                       ...                      ...            ...    ...   \n",
       "681                        3                        3           1966      M   \n",
       "682                        2                        3           1981      M   \n",
       "683                        3                        3           1967      M   \n",
       "684                        3                        3           1980      F   \n",
       "685                        3                        3           1963      M   \n",
       "\n",
       "     distance_from_home  ...  potential_rating  bonus no_courses_taken  \\\n",
       "0                  0.52  ...                 5      0                8   \n",
       "1                  0.08  ...                 5   2242                6   \n",
       "2                  0.51  ...                 3      0                2   \n",
       "3                  0.81  ...                 5   2320                2   \n",
       "4                  0.06  ...                 5      0               10   \n",
       "..                  ...  ...               ...    ...              ...   \n",
       "681                1.10  ...                 4   6438                0   \n",
       "682               25.27  ...                 3      0                0   \n",
       "683                1.09  ...                 3      0                3   \n",
       "684                0.34  ...                 4      0                3   \n",
       "685               38.62  ...                 5  10476                0   \n",
       "\n",
       "     time_in_position  awards  signon  manager_sat employee_sat salary_2017  \\\n",
       "0                  30       N       N           81         80.0      119968   \n",
       "1                   5       N       N           88         84.0       99330   \n",
       "2                  53       N       N           83         93.0      102511   \n",
       "3                  36       N       N           86         83.0       56674   \n",
       "4                   2       N       N           79         80.0      122021   \n",
       "..                ...     ...     ...          ...          ...         ...   \n",
       "681                17       N       N           79         80.0       74999   \n",
       "682                17       N       N           79         80.0       74999   \n",
       "683                43       N       N           79         80.0       74999   \n",
       "684                27       Y       N           79         80.0       74999   \n",
       "685                14       N       Y           79         80.0       74000   \n",
       "\n",
       "     salary_2018  \n",
       "0         124173  \n",
       "1         100822  \n",
       "2         115500  \n",
       "3          58806  \n",
       "4         122021  \n",
       "..           ...  \n",
       "681        75900  \n",
       "682        75900  \n",
       "683        75900  \n",
       "684        75900  \n",
       "685        75900  \n",
       "\n",
       "[686 rows x 23 columns]"
      ]
     },
     "execution_count": 5,
     "metadata": {},
     "output_type": "execute_result"
    }
   ],
   "source": [
    "df"
   ]
  },
  {
   "cell_type": "code",
   "execution_count": 7,
   "id": "90f004a8",
   "metadata": {},
   "outputs": [
    {
     "data": {
      "text/plain": [
       "e_code                      0\n",
       "status                      0\n",
       "hire_date                   0\n",
       "service_agreement           0\n",
       "job_level                   0\n",
       "performance_rating_2018     0\n",
       "performance_rating_2017     0\n",
       "year_of_birth               0\n",
       "gender                      0\n",
       "distance_from_home          0\n",
       "manager_changes             0\n",
       "no_of_promotions            0\n",
       "risk_of_attrition          14\n",
       "potential_rating            0\n",
       "bonus                       0\n",
       "no_courses_taken            0\n",
       "time_in_position            0\n",
       "awards                      0\n",
       "signon                      0\n",
       "manager_sat                 0\n",
       "employee_sat               21\n",
       "salary_2017                 0\n",
       "salary_2018                 0\n",
       "dtype: int64"
      ]
     },
     "execution_count": 7,
     "metadata": {},
     "output_type": "execute_result"
    }
   ],
   "source": [
    "df.isna().sum()"
   ]
  },
  {
   "cell_type": "code",
   "execution_count": 11,
   "id": "9818544f",
   "metadata": {},
   "outputs": [],
   "source": [
    "df1=df.dropna()"
   ]
  },
  {
   "cell_type": "code",
   "execution_count": 12,
   "id": "2ea3df4b",
   "metadata": {},
   "outputs": [
    {
     "data": {
      "text/plain": [
       "e_code                     0\n",
       "status                     0\n",
       "hire_date                  0\n",
       "service_agreement          0\n",
       "job_level                  0\n",
       "performance_rating_2018    0\n",
       "performance_rating_2017    0\n",
       "year_of_birth              0\n",
       "gender                     0\n",
       "distance_from_home         0\n",
       "manager_changes            0\n",
       "no_of_promotions           0\n",
       "risk_of_attrition          0\n",
       "potential_rating           0\n",
       "bonus                      0\n",
       "no_courses_taken           0\n",
       "time_in_position           0\n",
       "awards                     0\n",
       "signon                     0\n",
       "manager_sat                0\n",
       "employee_sat               0\n",
       "salary_2017                0\n",
       "salary_2018                0\n",
       "dtype: int64"
      ]
     },
     "execution_count": 12,
     "metadata": {},
     "output_type": "execute_result"
    }
   ],
   "source": [
    "df1.isna().sum()"
   ]
  },
  {
   "cell_type": "code",
   "execution_count": 39,
   "id": "677a3b47",
   "metadata": {},
   "outputs": [],
   "source": [
    "df1=df[\"employee_sat\"]\n",
    "df1=df1.fillna(0)"
   ]
  },
  {
   "cell_type": "code",
   "execution_count": 40,
   "id": "f54e7858",
   "metadata": {},
   "outputs": [
    {
     "data": {
      "text/plain": [
       "0     80.0\n",
       "1     84.0\n",
       "2     93.0\n",
       "3     83.0\n",
       "4     80.0\n",
       "5     81.0\n",
       "6      LOW\n",
       "7      LOW\n",
       "8     71.0\n",
       "9     87.0\n",
       "10    80.0\n",
       "11    80.0\n",
       "12    74.0\n",
       "13    81.0\n",
       "14     LOW\n",
       "15    80.0\n",
       "16    80.0\n",
       "17    74.0\n",
       "18    73.0\n",
       "19    96.0\n",
       "20    82.0\n",
       "21     LOW\n",
       "22    80.0\n",
       "23    97.0\n",
       "24    80.0\n",
       "Name: employee_sat, dtype: object"
      ]
     },
     "execution_count": 40,
     "metadata": {},
     "output_type": "execute_result"
    }
   ],
   "source": [
    "df2[\"employee_sat\"].head(25)"
   ]
  },
  {
   "cell_type": "code",
   "execution_count": 15,
   "id": "e479ab1c",
   "metadata": {},
   "outputs": [
    {
     "data": {
      "text/plain": [
       "0      80.0\n",
       "1      84.0\n",
       "2      93.0\n",
       "3      83.0\n",
       "4      80.0\n",
       "       ... \n",
       "681    80.0\n",
       "682    80.0\n",
       "683    80.0\n",
       "684    80.0\n",
       "685    80.0\n",
       "Name: employee_sat, Length: 686, dtype: float64"
      ]
     },
     "execution_count": 15,
     "metadata": {},
     "output_type": "execute_result"
    }
   ],
   "source": [
    "df1"
   ]
  },
  {
   "cell_type": "code",
   "execution_count": 17,
   "id": "baf97e3a",
   "metadata": {},
   "outputs": [
    {
     "data": {
      "text/plain": [
       "e_code                      0\n",
       "status                      0\n",
       "hire_date                   0\n",
       "service_agreement           0\n",
       "job_level                   0\n",
       "performance_rating_2018     0\n",
       "performance_rating_2017     0\n",
       "year_of_birth               0\n",
       "gender                      0\n",
       "distance_from_home          0\n",
       "manager_changes             0\n",
       "no_of_promotions            0\n",
       "risk_of_attrition          14\n",
       "potential_rating            0\n",
       "bonus                       0\n",
       "no_courses_taken            0\n",
       "time_in_position            0\n",
       "awards                      0\n",
       "signon                      0\n",
       "manager_sat                 0\n",
       "employee_sat               21\n",
       "salary_2017                 0\n",
       "salary_2018                 0\n",
       "dtype: int64"
      ]
     },
     "execution_count": 17,
     "metadata": {},
     "output_type": "execute_result"
    }
   ],
   "source": [
    "df.isna().sum()"
   ]
  },
  {
   "cell_type": "code",
   "execution_count": 19,
   "id": "ad88811e",
   "metadata": {},
   "outputs": [
    {
     "data": {
      "text/plain": [
       "0      80.0\n",
       "1      84.0\n",
       "2      93.0\n",
       "3      83.0\n",
       "4      80.0\n",
       "       ... \n",
       "681    80.0\n",
       "682    80.0\n",
       "683    80.0\n",
       "684    80.0\n",
       "685    80.0\n",
       "Name: employee_sat, Length: 686, dtype: float64"
      ]
     },
     "execution_count": 19,
     "metadata": {},
     "output_type": "execute_result"
    }
   ],
   "source": [
    "df1=df[\"employee_sat\"]\n",
    "df1=df1.fillna(df1.mean())\n",
    "df1"
   ]
  },
  {
   "cell_type": "code",
   "execution_count": 20,
   "id": "7cc90e2c",
   "metadata": {},
   "outputs": [
    {
     "data": {
      "text/plain": [
       "0"
      ]
     },
     "execution_count": 20,
     "metadata": {},
     "output_type": "execute_result"
    }
   ],
   "source": [
    "df1.isna().sum()"
   ]
  },
  {
   "cell_type": "code",
   "execution_count": 21,
   "id": "b13439ab",
   "metadata": {},
   "outputs": [
    {
     "data": {
      "text/plain": [
       "0      80.0\n",
       "1      84.0\n",
       "2      93.0\n",
       "3      83.0\n",
       "4      80.0\n",
       "       ... \n",
       "681    80.0\n",
       "682    80.0\n",
       "683    80.0\n",
       "684    80.0\n",
       "685    80.0\n",
       "Name: employee_sat, Length: 686, dtype: float64"
      ]
     },
     "execution_count": 21,
     "metadata": {},
     "output_type": "execute_result"
    }
   ],
   "source": [
    "df1=df[\"employee_sat\"]\n",
    "df1=df1.fillna(df1.median())\n",
    "df1"
   ]
  },
  {
   "cell_type": "code",
   "execution_count": 23,
   "id": "af096497",
   "metadata": {},
   "outputs": [
    {
     "data": {
      "text/plain": [
       "0"
      ]
     },
     "execution_count": 23,
     "metadata": {},
     "output_type": "execute_result"
    }
   ],
   "source": [
    "df1.isna().sum()"
   ]
  },
  {
   "cell_type": "code",
   "execution_count": 27,
   "id": "a5079f3e",
   "metadata": {},
   "outputs": [
    {
     "data": {
      "text/plain": [
       "80.0     403\n",
       "74.0      16\n",
       "85.0      14\n",
       "83.0      13\n",
       "87.0      13\n",
       "86.0      13\n",
       "76.0      13\n",
       "78.0      12\n",
       "89.0      12\n",
       "81.0      12\n",
       "73.0      12\n",
       "92.0      11\n",
       "88.0      11\n",
       "77.0      11\n",
       "82.0      11\n",
       "91.0       9\n",
       "90.0       9\n",
       "79.0       8\n",
       "72.0       8\n",
       "84.0       7\n",
       "75.0       7\n",
       "94.0       6\n",
       "71.0       6\n",
       "93.0       6\n",
       "70.0       6\n",
       "100.0      4\n",
       "95.0       4\n",
       "97.0       3\n",
       "96.0       3\n",
       "98.0       2\n",
       "Name: employee_sat, dtype: int64"
      ]
     },
     "execution_count": 27,
     "metadata": {},
     "output_type": "execute_result"
    }
   ],
   "source": [
    "df1=df[\"employee_sat\"]\n",
    "df1.value_counts()"
   ]
  },
  {
   "cell_type": "code",
   "execution_count": 29,
   "id": "727dcb81",
   "metadata": {},
   "outputs": [
    {
     "data": {
      "text/plain": [
       "0"
      ]
     },
     "execution_count": 29,
     "metadata": {},
     "output_type": "execute_result"
    }
   ],
   "source": [
    "df1=df1.fillna(80)\n",
    "df1.isna().sum()"
   ]
  },
  {
   "cell_type": "code",
   "execution_count": 31,
   "id": "4834587b",
   "metadata": {},
   "outputs": [
    {
     "data": {
      "text/plain": [
       "0"
      ]
     },
     "execution_count": 31,
     "metadata": {},
     "output_type": "execute_result"
    }
   ],
   "source": [
    "df1=df1.fillna(0)\n",
    "df1.isna().sum()"
   ]
  },
  {
   "cell_type": "code",
   "execution_count": 32,
   "id": "be9fb18c",
   "metadata": {},
   "outputs": [
    {
     "data": {
      "text/plain": [
       "LOW          642\n",
       "MEDIUM        19\n",
       "VERY HIGH      8\n",
       "HIGH           3\n",
       "Name: risk_of_attrition, dtype: int64"
      ]
     },
     "execution_count": 32,
     "metadata": {},
     "output_type": "execute_result"
    }
   ],
   "source": [
    "df1=df\n",
    "df1[\"risk_of_attrition\"].value_counts()"
   ]
  },
  {
   "cell_type": "code",
   "execution_count": 34,
   "id": "7d4b3014",
   "metadata": {},
   "outputs": [
    {
     "data": {
      "text/plain": [
       "e_code                     0\n",
       "status                     0\n",
       "hire_date                  0\n",
       "service_agreement          0\n",
       "job_level                  0\n",
       "performance_rating_2018    0\n",
       "performance_rating_2017    0\n",
       "year_of_birth              0\n",
       "gender                     0\n",
       "distance_from_home         0\n",
       "manager_changes            0\n",
       "no_of_promotions           0\n",
       "risk_of_attrition          0\n",
       "potential_rating           0\n",
       "bonus                      0\n",
       "no_courses_taken           0\n",
       "time_in_position           0\n",
       "awards                     0\n",
       "signon                     0\n",
       "manager_sat                0\n",
       "employee_sat               0\n",
       "salary_2017                0\n",
       "salary_2018                0\n",
       "dtype: int64"
      ]
     },
     "execution_count": 34,
     "metadata": {},
     "output_type": "execute_result"
    }
   ],
   "source": [
    "df2=df1.fillna(\"LOW\")\n",
    "df2.isna().sum()"
   ]
  },
  {
   "cell_type": "code",
   "execution_count": 38,
   "id": "7f4ed213",
   "metadata": {},
   "outputs": [
    {
     "data": {
      "text/plain": [
       "0     LOW\n",
       "1     LOW\n",
       "2     LOW\n",
       "3     LOW\n",
       "4     LOW\n",
       "5     LOW\n",
       "6     LOW\n",
       "7     LOW\n",
       "8     LOW\n",
       "9     LOW\n",
       "10    LOW\n",
       "11    LOW\n",
       "12    LOW\n",
       "13    LOW\n",
       "14    LOW\n",
       "15    LOW\n",
       "16    LOW\n",
       "17    LOW\n",
       "18    LOW\n",
       "19    LOW\n",
       "20    LOW\n",
       "21    LOW\n",
       "22    LOW\n",
       "23    LOW\n",
       "24    LOW\n",
       "Name: risk_of_attrition, dtype: object"
      ]
     },
     "execution_count": 38,
     "metadata": {},
     "output_type": "execute_result"
    }
   ],
   "source": [
    "df2[\"risk_of_attrition\"].head(25)"
   ]
  },
  {
   "cell_type": "code",
   "execution_count": null,
   "id": "ca025db0",
   "metadata": {},
   "outputs": [],
   "source": []
  }
 ],
 "metadata": {
  "kernelspec": {
   "display_name": "Python 3 (ipykernel)",
   "language": "python",
   "name": "python3"
  },
  "language_info": {
   "codemirror_mode": {
    "name": "ipython",
    "version": 3
   },
   "file_extension": ".py",
   "mimetype": "text/x-python",
   "name": "python",
   "nbconvert_exporter": "python",
   "pygments_lexer": "ipython3",
   "version": "3.11.4"
  }
 },
 "nbformat": 4,
 "nbformat_minor": 5
}
