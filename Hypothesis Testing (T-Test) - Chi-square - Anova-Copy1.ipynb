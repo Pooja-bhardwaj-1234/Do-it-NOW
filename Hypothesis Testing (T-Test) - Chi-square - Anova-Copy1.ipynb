{
 "cells": [
  {
   "cell_type": "code",
   "execution_count": 2,
   "id": "5b5029ed",
   "metadata": {},
   "outputs": [],
   "source": [
    "import pandas as pd\n",
    "df=pd.read_excel(\"C:\\\\Users\\\\pbbha\\\\OneDrive\\\\Desktop\\\\Term 4\\\\HRA\\\\HYPOTHESIS TESTING 1.xlsx\")"
   ]
  },
  {
   "cell_type": "code",
   "execution_count": 3,
   "id": "3cac61dd",
   "metadata": {},
   "outputs": [
    {
     "name": "stdout",
     "output_type": "stream",
     "text": [
      "10.160245615228078\n"
     ]
    },
    {
     "data": {
      "text/plain": [
       "2.297902020315604e-11"
      ]
     },
     "execution_count": 3,
     "metadata": {},
     "output_type": "execute_result"
    }
   ],
   "source": [
    "#step1:Formulating hypothesis\n",
    "#Ho:Hiring score for college b is less than equal to 3.9\n",
    "#HA:Hiring score for college b is greater than to 3.9\n",
    "#Step2:Choosing the test\n",
    "#One sample t-test\n",
    "#Step3:Choosing the singnifance level\n",
    "#0.05\n",
    "#Step4:Apply the test and find p-value\n",
    "import scipy.stats as sp\n",
    "r=sp.ttest_1samp(df.hiring_score,3.9)\n",
    "#Step5:Compare p-value & Significance level\n",
    "print(r[0])\n",
    "r[1]/2"
   ]
  },
  {
   "cell_type": "code",
   "execution_count": 4,
   "id": "48ce51c4",
   "metadata": {},
   "outputs": [],
   "source": [
    "#Conclusion:As p-value is less than 0.05, We reject the null hypothesis & Accept the Alternative Hypothesis"
   ]
  },
  {
   "cell_type": "code",
   "execution_count": 5,
   "id": "5b456770",
   "metadata": {},
   "outputs": [],
   "source": [
    "import pandas as pd\n",
    "df=pd.read_excel(\"C:\\\\Users\\\\pbbha\\\\OneDrive\\\\Desktop\\\\Term 4\\\\HRA\\\\HYPOTHESIS TESTING.xlsx\")"
   ]
  },
  {
   "cell_type": "code",
   "execution_count": 8,
   "id": "af304598",
   "metadata": {},
   "outputs": [
    {
     "name": "stdout",
     "output_type": "stream",
     "text": [
      "27.374482379354223\n"
     ]
    },
    {
     "data": {
      "text/plain": [
       "7.194835316062769e-108"
      ]
     },
     "execution_count": 8,
     "metadata": {},
     "output_type": "execute_result"
    }
   ],
   "source": [
    "#Step1:Formulating Hypothesis\n",
    "#Ho: There is no significant differece in the productivity before and after training\n",
    "#HA: There is significant differece in the productivity before and after training\n",
    "#Step2:Choosing the test\n",
    "#paired T-Test\n",
    "#Step3:Choosing the singnifance level\n",
    "#0.05\n",
    "#Step4:Apply the test and find p-value\n",
    "import scipy.stats as sp\n",
    "r=sp.ttest_rel(df['productivity_after_training'],df['productivity_before_training'])\n",
    "#Step5:Compare p-value & Significance level\n",
    "print(r[0])\n",
    "r[1]/2"
   ]
  },
  {
   "cell_type": "code",
   "execution_count": 9,
   "id": "c2a07be9",
   "metadata": {},
   "outputs": [],
   "source": [
    "#Conclusion:As p-value is less than 0.05, We reject the null hypothesis & Accept the Alternative Hypothesis"
   ]
  },
  {
   "cell_type": "code",
   "execution_count": 10,
   "id": "f6f87158",
   "metadata": {},
   "outputs": [
    {
     "data": {
      "text/plain": [
       "Chi2ContingencyResult(statistic=1.6572558301428084, pvalue=0.19797424382119203, dof=1, expected_freq=array([[ 66.360601,  92.639399],\n",
       "       [183.639399, 256.360601]]))"
      ]
     },
     "execution_count": 10,
     "metadata": {},
     "output_type": "execute_result"
    }
   ],
   "source": [
    "#Step1:Formulating Hypothesis\n",
    "#Ho:employee_gender and hiring_manager_gender are independent\n",
    "#HA:employee_gender and hiring_manager_gender are dependent\n",
    "#Step2:Choosing the test\n",
    "#Chi-Square\n",
    "#Step3:Choosing the singnifance level\n",
    "#0.05\n",
    "#Step4:Apply the test and find p-value\n",
    "table=pd.crosstab(df['employee_gender'],df['hiring_manager_gender'])\n",
    "sp.chi2_contingency(table)"
   ]
  },
  {
   "cell_type": "code",
   "execution_count": 11,
   "id": "4ea23d23",
   "metadata": {},
   "outputs": [],
   "source": [
    "#Step5:Compare p-value & Significance level \n",
    "#Conclusion:As p-value is higher than 0.05 we are failed to reject the null hypothesis."
   ]
  },
  {
   "cell_type": "code",
   "execution_count": 12,
   "id": "1ec51d72",
   "metadata": {},
   "outputs": [
    {
     "name": "stdout",
     "output_type": "stream",
     "text": [
      "{'Human Resources': [79, 100, 105, 112, 134, 139, 232, 310, 350, 422, 440, 453, 477, 493, 510, 535, 538, 551], 'Research & Development': [1, 2, 3, 4, 5, 6, 7, 8, 9, 10, 11, 12, 13, 14, 15, 16, 17, 19, 20, 22, 23, 24, 25, 26, 28, 30, 31, 32, 34, 35, 38, 40, 41, 42, 44, 45, 47, 49, 50, 51, 53, 55, 57, 58, 59, 60, 61, 62, 64, 65, 66, 67, 68, 69, 71, 72, 73, 74, 75, 77, 78, 80, 81, 83, 84, 85, 87, 88, 90, 93, 95, 99, 101, 102, 103, 104, 106, 108, 109, 110, 111, 113, 114, 116, 118, 120, 122, 123, 125, 126, 128, 129, 130, 135, 136, 140, 141, 142, 143, 145, ...], 'Sales': [0, 18, 21, 27, 29, 33, 36, 37, 39, 43, 46, 48, 52, 54, 56, 63, 70, 76, 82, 86, 89, 91, 92, 94, 96, 97, 98, 107, 115, 117, 119, 121, 124, 127, 131, 132, 133, 137, 138, 144, 151, 152, 154, 158, 159, 167, 168, 171, 174, 178, 182, 205, 210, 212, 215, 216, 218, 219, 223, 226, 227, 228, 233, 235, 237, 238, 241, 254, 261, 263, 265, 273, 277, 281, 282, 292, 293, 295, 297, 300, 301, 303, 306, 319, 320, 321, 327, 328, 331, 335, 338, 339, 343, 347, 349, 352, 354, 355, 357, 358, ...]}\n"
     ]
    }
   ],
   "source": [
    "#Step1:Formulating Hypothesis\n",
    "#Ho:years since last promotion and department are independent\n",
    "#Ha:years since last promotion and department are dependent \n",
    "#step2:Choosing the test \n",
    "# ANNOVA \n",
    "#Step3:Choosing the singnifance level\n",
    "#0.05\n",
    "#Step4:Apply the test and find p-value\n",
    "groups=df.groupby(\"Department\").groups\n",
    "print (groups)"
   ]
  },
  {
   "cell_type": "code",
   "execution_count": 13,
   "id": "d64aac25",
   "metadata": {},
   "outputs": [],
   "source": [
    "#Extract individual groups\n",
    "HR=df.yrs_since_last_promotion[groups[\"Human Resources\"]]\n",
    "S=df.yrs_since_last_promotion[groups[\"Sales\"]]\n",
    "RD=df.yrs_since_last_promotion[groups[\"Research & Development\"]]"
   ]
  },
  {
   "cell_type": "code",
   "execution_count": 14,
   "id": "4d4abe6d",
   "metadata": {},
   "outputs": [
    {
     "name": "stdout",
     "output_type": "stream",
     "text": [
      "79      0\n",
      "100     0\n",
      "105     2\n",
      "112     4\n",
      "134     5\n",
      "139     4\n",
      "232     2\n",
      "310     1\n",
      "350     1\n",
      "422     0\n",
      "440     0\n",
      "453     1\n",
      "477    10\n",
      "493     0\n",
      "510     7\n",
      "535    12\n",
      "538     2\n",
      "551     3\n",
      "Name: yrs_since_last_promotion, dtype: int64\n"
     ]
    }
   ],
   "source": [
    "print(HR)"
   ]
  },
  {
   "cell_type": "code",
   "execution_count": 15,
   "id": "64fa87dd",
   "metadata": {},
   "outputs": [
    {
     "data": {
      "text/plain": [
       "F_onewayResult(statistic=0.7346134416339346, pvalue=0.48012467830275873)"
      ]
     },
     "execution_count": 15,
     "metadata": {},
     "output_type": "execute_result"
    }
   ],
   "source": [
    "sp.f_oneway(HR,S,RD)"
   ]
  },
  {
   "cell_type": "code",
   "execution_count": 16,
   "id": "700ae29f",
   "metadata": {},
   "outputs": [],
   "source": [
    "#Step5:Compare p-value & Significance level \n",
    "#Conclusion:As p-value is higher than 0.05 we are failed to reject the null hypothesis."
   ]
  },
  {
   "cell_type": "code",
   "execution_count": null,
   "id": "7d822f53",
   "metadata": {},
   "outputs": [],
   "source": []
  }
 ],
 "metadata": {
  "kernelspec": {
   "display_name": "Python 3 (ipykernel)",
   "language": "python",
   "name": "python3"
  },
  "language_info": {
   "codemirror_mode": {
    "name": "ipython",
    "version": 3
   },
   "file_extension": ".py",
   "mimetype": "text/x-python",
   "name": "python",
   "nbconvert_exporter": "python",
   "pygments_lexer": "ipython3",
   "version": "3.11.4"
  }
 },
 "nbformat": 4,
 "nbformat_minor": 5
}
