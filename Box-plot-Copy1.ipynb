{
 "cells": [
  {
   "cell_type": "code",
   "execution_count": 2,
   "id": "cc253a3f",
   "metadata": {},
   "outputs": [],
   "source": [
    "import pandas as pd\n",
    "df=pd.read_excel(\"C:\\\\Users\\\\pbbha\\\\OneDrive\\\\Desktop\\\\Term 4\\\\HRA\\\\mean median mode - Original.xlsx\")"
   ]
  },
  {
   "cell_type": "code",
   "execution_count": 3,
   "id": "ff41dbcf",
   "metadata": {},
   "outputs": [
    {
     "data": {
      "text/html": [
       "<div>\n",
       "<style scoped>\n",
       "    .dataframe tbody tr th:only-of-type {\n",
       "        vertical-align: middle;\n",
       "    }\n",
       "\n",
       "    .dataframe tbody tr th {\n",
       "        vertical-align: top;\n",
       "    }\n",
       "\n",
       "    .dataframe thead th {\n",
       "        text-align: right;\n",
       "    }\n",
       "</style>\n",
       "<table border=\"1\" class=\"dataframe\">\n",
       "  <thead>\n",
       "    <tr style=\"text-align: right;\">\n",
       "      <th></th>\n",
       "      <th>age</th>\n",
       "      <th>department</th>\n",
       "      <th>employee_number</th>\n",
       "      <th>gender</th>\n",
       "      <th>job_level</th>\n",
       "      <th>marital_status</th>\n",
       "      <th>over_time</th>\n",
       "      <th>performance_rating</th>\n",
       "      <th>totalW_working_years</th>\n",
       "      <th>training_times_last_year</th>\n",
       "      <th>years_since_last_promotion</th>\n",
       "      <th>years_with_curr_manager</th>\n",
       "      <th>monthly_income</th>\n",
       "      <th>salary_2017</th>\n",
       "      <th>salary_2018</th>\n",
       "      <th>year_of_joining</th>\n",
       "      <th>last_role_change</th>\n",
       "      <th>percent_hike</th>\n",
       "    </tr>\n",
       "  </thead>\n",
       "  <tbody>\n",
       "    <tr>\n",
       "      <th>0</th>\n",
       "      <td>41</td>\n",
       "      <td>Sales</td>\n",
       "      <td>1</td>\n",
       "      <td>Female</td>\n",
       "      <td>2</td>\n",
       "      <td>Single</td>\n",
       "      <td>Yes</td>\n",
       "      <td>3</td>\n",
       "      <td>8</td>\n",
       "      <td>0</td>\n",
       "      <td>0</td>\n",
       "      <td>5</td>\n",
       "      <td>5993</td>\n",
       "      <td>71916</td>\n",
       "      <td>79826.76</td>\n",
       "      <td>2012</td>\n",
       "      <td>2014</td>\n",
       "      <td>11</td>\n",
       "    </tr>\n",
       "    <tr>\n",
       "      <th>1</th>\n",
       "      <td>49</td>\n",
       "      <td>Research &amp; Development</td>\n",
       "      <td>2</td>\n",
       "      <td>Male</td>\n",
       "      <td>2</td>\n",
       "      <td>Married</td>\n",
       "      <td>No</td>\n",
       "      <td>4</td>\n",
       "      <td>10</td>\n",
       "      <td>3</td>\n",
       "      <td>1</td>\n",
       "      <td>7</td>\n",
       "      <td>5130</td>\n",
       "      <td>61560</td>\n",
       "      <td>75718.80</td>\n",
       "      <td>2008</td>\n",
       "      <td>2011</td>\n",
       "      <td>23</td>\n",
       "    </tr>\n",
       "    <tr>\n",
       "      <th>2</th>\n",
       "      <td>37</td>\n",
       "      <td>Research &amp; Development</td>\n",
       "      <td>4</td>\n",
       "      <td>Male</td>\n",
       "      <td>1</td>\n",
       "      <td>Single</td>\n",
       "      <td>Yes</td>\n",
       "      <td>3</td>\n",
       "      <td>7</td>\n",
       "      <td>3</td>\n",
       "      <td>0</td>\n",
       "      <td>0</td>\n",
       "      <td>2090</td>\n",
       "      <td>25080</td>\n",
       "      <td>28842.00</td>\n",
       "      <td>2018</td>\n",
       "      <td>2018</td>\n",
       "      <td>15</td>\n",
       "    </tr>\n",
       "    <tr>\n",
       "      <th>3</th>\n",
       "      <td>33</td>\n",
       "      <td>Research &amp; Development</td>\n",
       "      <td>5</td>\n",
       "      <td>Female</td>\n",
       "      <td>1</td>\n",
       "      <td>Married</td>\n",
       "      <td>Yes</td>\n",
       "      <td>3</td>\n",
       "      <td>8</td>\n",
       "      <td>3</td>\n",
       "      <td>3</td>\n",
       "      <td>0</td>\n",
       "      <td>2909</td>\n",
       "      <td>34908</td>\n",
       "      <td>38747.88</td>\n",
       "      <td>2010</td>\n",
       "      <td>2011</td>\n",
       "      <td>11</td>\n",
       "    </tr>\n",
       "    <tr>\n",
       "      <th>4</th>\n",
       "      <td>27</td>\n",
       "      <td>Research &amp; Development</td>\n",
       "      <td>7</td>\n",
       "      <td>Male</td>\n",
       "      <td>1</td>\n",
       "      <td>Married</td>\n",
       "      <td>No</td>\n",
       "      <td>3</td>\n",
       "      <td>6</td>\n",
       "      <td>3</td>\n",
       "      <td>2</td>\n",
       "      <td>2</td>\n",
       "      <td>3468</td>\n",
       "      <td>41616</td>\n",
       "      <td>46609.92</td>\n",
       "      <td>2016</td>\n",
       "      <td>2016</td>\n",
       "      <td>12</td>\n",
       "    </tr>\n",
       "    <tr>\n",
       "      <th>...</th>\n",
       "      <td>...</td>\n",
       "      <td>...</td>\n",
       "      <td>...</td>\n",
       "      <td>...</td>\n",
       "      <td>...</td>\n",
       "      <td>...</td>\n",
       "      <td>...</td>\n",
       "      <td>...</td>\n",
       "      <td>...</td>\n",
       "      <td>...</td>\n",
       "      <td>...</td>\n",
       "      <td>...</td>\n",
       "      <td>...</td>\n",
       "      <td>...</td>\n",
       "      <td>...</td>\n",
       "      <td>...</td>\n",
       "      <td>...</td>\n",
       "      <td>...</td>\n",
       "    </tr>\n",
       "    <tr>\n",
       "      <th>1465</th>\n",
       "      <td>36</td>\n",
       "      <td>Research &amp; Development</td>\n",
       "      <td>2061</td>\n",
       "      <td>Male</td>\n",
       "      <td>2</td>\n",
       "      <td>Married</td>\n",
       "      <td>No</td>\n",
       "      <td>3</td>\n",
       "      <td>17</td>\n",
       "      <td>3</td>\n",
       "      <td>0</td>\n",
       "      <td>3</td>\n",
       "      <td>2571</td>\n",
       "      <td>30852</td>\n",
       "      <td>36096.84</td>\n",
       "      <td>2013</td>\n",
       "      <td>2016</td>\n",
       "      <td>17</td>\n",
       "    </tr>\n",
       "    <tr>\n",
       "      <th>1466</th>\n",
       "      <td>39</td>\n",
       "      <td>Research &amp; Development</td>\n",
       "      <td>2062</td>\n",
       "      <td>Male</td>\n",
       "      <td>3</td>\n",
       "      <td>Married</td>\n",
       "      <td>No</td>\n",
       "      <td>3</td>\n",
       "      <td>9</td>\n",
       "      <td>5</td>\n",
       "      <td>1</td>\n",
       "      <td>7</td>\n",
       "      <td>9991</td>\n",
       "      <td>119892</td>\n",
       "      <td>137875.80</td>\n",
       "      <td>2011</td>\n",
       "      <td>2011</td>\n",
       "      <td>15</td>\n",
       "    </tr>\n",
       "    <tr>\n",
       "      <th>1467</th>\n",
       "      <td>27</td>\n",
       "      <td>Research &amp; Development</td>\n",
       "      <td>2064</td>\n",
       "      <td>Male</td>\n",
       "      <td>2</td>\n",
       "      <td>Married</td>\n",
       "      <td>Yes</td>\n",
       "      <td>4</td>\n",
       "      <td>6</td>\n",
       "      <td>0</td>\n",
       "      <td>0</td>\n",
       "      <td>3</td>\n",
       "      <td>6142</td>\n",
       "      <td>73704</td>\n",
       "      <td>88444.80</td>\n",
       "      <td>2012</td>\n",
       "      <td>2016</td>\n",
       "      <td>20</td>\n",
       "    </tr>\n",
       "    <tr>\n",
       "      <th>1468</th>\n",
       "      <td>49</td>\n",
       "      <td>Sales</td>\n",
       "      <td>2065</td>\n",
       "      <td>Male</td>\n",
       "      <td>2</td>\n",
       "      <td>Married</td>\n",
       "      <td>No</td>\n",
       "      <td>3</td>\n",
       "      <td>17</td>\n",
       "      <td>3</td>\n",
       "      <td>0</td>\n",
       "      <td>8</td>\n",
       "      <td>5390</td>\n",
       "      <td>64680</td>\n",
       "      <td>73735.20</td>\n",
       "      <td>2009</td>\n",
       "      <td>2012</td>\n",
       "      <td>14</td>\n",
       "    </tr>\n",
       "    <tr>\n",
       "      <th>1469</th>\n",
       "      <td>34</td>\n",
       "      <td>Research &amp; Development</td>\n",
       "      <td>2068</td>\n",
       "      <td>Male</td>\n",
       "      <td>2</td>\n",
       "      <td>Married</td>\n",
       "      <td>No</td>\n",
       "      <td>3</td>\n",
       "      <td>6</td>\n",
       "      <td>3</td>\n",
       "      <td>1</td>\n",
       "      <td>2</td>\n",
       "      <td>4404</td>\n",
       "      <td>52848</td>\n",
       "      <td>59189.76</td>\n",
       "      <td>2014</td>\n",
       "      <td>2015</td>\n",
       "      <td>12</td>\n",
       "    </tr>\n",
       "  </tbody>\n",
       "</table>\n",
       "<p>1470 rows × 18 columns</p>\n",
       "</div>"
      ],
      "text/plain": [
       "      age              department  employee_number  gender  job_level  \\\n",
       "0      41                   Sales                1  Female          2   \n",
       "1      49  Research & Development                2    Male          2   \n",
       "2      37  Research & Development                4    Male          1   \n",
       "3      33  Research & Development                5  Female          1   \n",
       "4      27  Research & Development                7    Male          1   \n",
       "...   ...                     ...              ...     ...        ...   \n",
       "1465   36  Research & Development             2061    Male          2   \n",
       "1466   39  Research & Development             2062    Male          3   \n",
       "1467   27  Research & Development             2064    Male          2   \n",
       "1468   49                   Sales             2065    Male          2   \n",
       "1469   34  Research & Development             2068    Male          2   \n",
       "\n",
       "     marital_status over_time  performance_rating  totalW_working_years  \\\n",
       "0            Single       Yes                   3                     8   \n",
       "1           Married        No                   4                    10   \n",
       "2            Single       Yes                   3                     7   \n",
       "3           Married       Yes                   3                     8   \n",
       "4           Married        No                   3                     6   \n",
       "...             ...       ...                 ...                   ...   \n",
       "1465        Married        No                   3                    17   \n",
       "1466        Married        No                   3                     9   \n",
       "1467        Married       Yes                   4                     6   \n",
       "1468        Married        No                   3                    17   \n",
       "1469        Married        No                   3                     6   \n",
       "\n",
       "      training_times_last_year  years_since_last_promotion  \\\n",
       "0                            0                           0   \n",
       "1                            3                           1   \n",
       "2                            3                           0   \n",
       "3                            3                           3   \n",
       "4                            3                           2   \n",
       "...                        ...                         ...   \n",
       "1465                         3                           0   \n",
       "1466                         5                           1   \n",
       "1467                         0                           0   \n",
       "1468                         3                           0   \n",
       "1469                         3                           1   \n",
       "\n",
       "      years_with_curr_manager  monthly_income  salary_2017  salary_2018  \\\n",
       "0                           5            5993        71916     79826.76   \n",
       "1                           7            5130        61560     75718.80   \n",
       "2                           0            2090        25080     28842.00   \n",
       "3                           0            2909        34908     38747.88   \n",
       "4                           2            3468        41616     46609.92   \n",
       "...                       ...             ...          ...          ...   \n",
       "1465                        3            2571        30852     36096.84   \n",
       "1466                        7            9991       119892    137875.80   \n",
       "1467                        3            6142        73704     88444.80   \n",
       "1468                        8            5390        64680     73735.20   \n",
       "1469                        2            4404        52848     59189.76   \n",
       "\n",
       "      year_of_joining  last_role_change  percent_hike  \n",
       "0                2012              2014            11  \n",
       "1                2008              2011            23  \n",
       "2                2018              2018            15  \n",
       "3                2010              2011            11  \n",
       "4                2016              2016            12  \n",
       "...               ...               ...           ...  \n",
       "1465             2013              2016            17  \n",
       "1466             2011              2011            15  \n",
       "1467             2012              2016            20  \n",
       "1468             2009              2012            14  \n",
       "1469             2014              2015            12  \n",
       "\n",
       "[1470 rows x 18 columns]"
      ]
     },
     "execution_count": 3,
     "metadata": {},
     "output_type": "execute_result"
    }
   ],
   "source": [
    "df"
   ]
  },
  {
   "cell_type": "code",
   "execution_count": 5,
   "id": "38df738c",
   "metadata": {},
   "outputs": [
    {
     "data": {
      "text/html": [
       "<div>\n",
       "<style scoped>\n",
       "    .dataframe tbody tr th:only-of-type {\n",
       "        vertical-align: middle;\n",
       "    }\n",
       "\n",
       "    .dataframe tbody tr th {\n",
       "        vertical-align: top;\n",
       "    }\n",
       "\n",
       "    .dataframe thead th {\n",
       "        text-align: right;\n",
       "    }\n",
       "</style>\n",
       "<table border=\"1\" class=\"dataframe\">\n",
       "  <thead>\n",
       "    <tr style=\"text-align: right;\">\n",
       "      <th></th>\n",
       "      <th>age</th>\n",
       "      <th>department</th>\n",
       "      <th>employee_number</th>\n",
       "      <th>gender</th>\n",
       "      <th>job_level</th>\n",
       "      <th>marital_status</th>\n",
       "      <th>over_time</th>\n",
       "      <th>performance_rating</th>\n",
       "      <th>totalW_working_years</th>\n",
       "      <th>training_times_last_year</th>\n",
       "      <th>years_since_last_promotion</th>\n",
       "      <th>years_with_curr_manager</th>\n",
       "      <th>monthly_income</th>\n",
       "      <th>salary_2017</th>\n",
       "      <th>salary_2018</th>\n",
       "      <th>year_of_joining</th>\n",
       "      <th>last_role_change</th>\n",
       "      <th>percent_hike</th>\n",
       "    </tr>\n",
       "  </thead>\n",
       "  <tbody>\n",
       "    <tr>\n",
       "      <th>79</th>\n",
       "      <td>46</td>\n",
       "      <td>Human Resources</td>\n",
       "      <td>103</td>\n",
       "      <td>Male</td>\n",
       "      <td>2</td>\n",
       "      <td>Divorced</td>\n",
       "      <td>Yes</td>\n",
       "      <td>4</td>\n",
       "      <td>16</td>\n",
       "      <td>2</td>\n",
       "      <td>0</td>\n",
       "      <td>2</td>\n",
       "      <td>5021</td>\n",
       "      <td>60252</td>\n",
       "      <td>73507.44</td>\n",
       "      <td>2014</td>\n",
       "      <td>2016</td>\n",
       "      <td>22</td>\n",
       "    </tr>\n",
       "    <tr>\n",
       "      <th>100</th>\n",
       "      <td>37</td>\n",
       "      <td>Human Resources</td>\n",
       "      <td>133</td>\n",
       "      <td>Male</td>\n",
       "      <td>1</td>\n",
       "      <td>Divorced</td>\n",
       "      <td>Yes</td>\n",
       "      <td>4</td>\n",
       "      <td>7</td>\n",
       "      <td>3</td>\n",
       "      <td>0</td>\n",
       "      <td>2</td>\n",
       "      <td>2073</td>\n",
       "      <td>24876</td>\n",
       "      <td>30348.72</td>\n",
       "      <td>2015</td>\n",
       "      <td>2016</td>\n",
       "      <td>22</td>\n",
       "    </tr>\n",
       "    <tr>\n",
       "      <th>105</th>\n",
       "      <td>59</td>\n",
       "      <td>Human Resources</td>\n",
       "      <td>140</td>\n",
       "      <td>Female</td>\n",
       "      <td>5</td>\n",
       "      <td>Married</td>\n",
       "      <td>No</td>\n",
       "      <td>4</td>\n",
       "      <td>30</td>\n",
       "      <td>3</td>\n",
       "      <td>2</td>\n",
       "      <td>2</td>\n",
       "      <td>18844</td>\n",
       "      <td>226128</td>\n",
       "      <td>273614.88</td>\n",
       "      <td>2015</td>\n",
       "      <td>2016</td>\n",
       "      <td>21</td>\n",
       "    </tr>\n",
       "    <tr>\n",
       "      <th>112</th>\n",
       "      <td>54</td>\n",
       "      <td>Human Resources</td>\n",
       "      <td>148</td>\n",
       "      <td>Female</td>\n",
       "      <td>4</td>\n",
       "      <td>Single</td>\n",
       "      <td>Yes</td>\n",
       "      <td>3</td>\n",
       "      <td>23</td>\n",
       "      <td>3</td>\n",
       "      <td>4</td>\n",
       "      <td>4</td>\n",
       "      <td>17328</td>\n",
       "      <td>207936</td>\n",
       "      <td>232888.32</td>\n",
       "      <td>2013</td>\n",
       "      <td>2015</td>\n",
       "      <td>12</td>\n",
       "    </tr>\n",
       "    <tr>\n",
       "      <th>134</th>\n",
       "      <td>26</td>\n",
       "      <td>Human Resources</td>\n",
       "      <td>177</td>\n",
       "      <td>Female</td>\n",
       "      <td>1</td>\n",
       "      <td>Married</td>\n",
       "      <td>No</td>\n",
       "      <td>4</td>\n",
       "      <td>8</td>\n",
       "      <td>3</td>\n",
       "      <td>5</td>\n",
       "      <td>7</td>\n",
       "      <td>2942</td>\n",
       "      <td>35304</td>\n",
       "      <td>43423.92</td>\n",
       "      <td>2010</td>\n",
       "      <td>2011</td>\n",
       "      <td>23</td>\n",
       "    </tr>\n",
       "    <tr>\n",
       "      <th>...</th>\n",
       "      <td>...</td>\n",
       "      <td>...</td>\n",
       "      <td>...</td>\n",
       "      <td>...</td>\n",
       "      <td>...</td>\n",
       "      <td>...</td>\n",
       "      <td>...</td>\n",
       "      <td>...</td>\n",
       "      <td>...</td>\n",
       "      <td>...</td>\n",
       "      <td>...</td>\n",
       "      <td>...</td>\n",
       "      <td>...</td>\n",
       "      <td>...</td>\n",
       "      <td>...</td>\n",
       "      <td>...</td>\n",
       "      <td>...</td>\n",
       "      <td>...</td>\n",
       "    </tr>\n",
       "    <tr>\n",
       "      <th>1379</th>\n",
       "      <td>27</td>\n",
       "      <td>Human Resources</td>\n",
       "      <td>1944</td>\n",
       "      <td>Female</td>\n",
       "      <td>1</td>\n",
       "      <td>Married</td>\n",
       "      <td>No</td>\n",
       "      <td>3</td>\n",
       "      <td>1</td>\n",
       "      <td>2</td>\n",
       "      <td>0</td>\n",
       "      <td>0</td>\n",
       "      <td>2863</td>\n",
       "      <td>34356</td>\n",
       "      <td>38478.72</td>\n",
       "      <td>2017</td>\n",
       "      <td>2018</td>\n",
       "      <td>12</td>\n",
       "    </tr>\n",
       "    <tr>\n",
       "      <th>1400</th>\n",
       "      <td>38</td>\n",
       "      <td>Human Resources</td>\n",
       "      <td>1972</td>\n",
       "      <td>Male</td>\n",
       "      <td>1</td>\n",
       "      <td>Married</td>\n",
       "      <td>Yes</td>\n",
       "      <td>3</td>\n",
       "      <td>7</td>\n",
       "      <td>2</td>\n",
       "      <td>1</td>\n",
       "      <td>2</td>\n",
       "      <td>2991</td>\n",
       "      <td>35892</td>\n",
       "      <td>39840.12</td>\n",
       "      <td>2012</td>\n",
       "      <td>2016</td>\n",
       "      <td>11</td>\n",
       "    </tr>\n",
       "    <tr>\n",
       "      <th>1401</th>\n",
       "      <td>55</td>\n",
       "      <td>Human Resources</td>\n",
       "      <td>1973</td>\n",
       "      <td>Male</td>\n",
       "      <td>5</td>\n",
       "      <td>Married</td>\n",
       "      <td>Yes</td>\n",
       "      <td>3</td>\n",
       "      <td>35</td>\n",
       "      <td>0</td>\n",
       "      <td>1</td>\n",
       "      <td>4</td>\n",
       "      <td>19636</td>\n",
       "      <td>235632</td>\n",
       "      <td>278045.76</td>\n",
       "      <td>2008</td>\n",
       "      <td>2009</td>\n",
       "      <td>18</td>\n",
       "    </tr>\n",
       "    <tr>\n",
       "      <th>1411</th>\n",
       "      <td>25</td>\n",
       "      <td>Human Resources</td>\n",
       "      <td>1987</td>\n",
       "      <td>Female</td>\n",
       "      <td>1</td>\n",
       "      <td>Married</td>\n",
       "      <td>No</td>\n",
       "      <td>3</td>\n",
       "      <td>6</td>\n",
       "      <td>3</td>\n",
       "      <td>1</td>\n",
       "      <td>2</td>\n",
       "      <td>2187</td>\n",
       "      <td>26244</td>\n",
       "      <td>29918.16</td>\n",
       "      <td>2016</td>\n",
       "      <td>2018</td>\n",
       "      <td>14</td>\n",
       "    </tr>\n",
       "    <tr>\n",
       "      <th>1450</th>\n",
       "      <td>35</td>\n",
       "      <td>Human Resources</td>\n",
       "      <td>2040</td>\n",
       "      <td>Female</td>\n",
       "      <td>3</td>\n",
       "      <td>Single</td>\n",
       "      <td>Yes</td>\n",
       "      <td>3</td>\n",
       "      <td>9</td>\n",
       "      <td>2</td>\n",
       "      <td>1</td>\n",
       "      <td>7</td>\n",
       "      <td>8837</td>\n",
       "      <td>106044</td>\n",
       "      <td>123011.04</td>\n",
       "      <td>2009</td>\n",
       "      <td>2018</td>\n",
       "      <td>16</td>\n",
       "    </tr>\n",
       "  </tbody>\n",
       "</table>\n",
       "<p>63 rows × 18 columns</p>\n",
       "</div>"
      ],
      "text/plain": [
       "      age       department  employee_number  gender  job_level marital_status  \\\n",
       "79     46  Human Resources              103    Male          2       Divorced   \n",
       "100    37  Human Resources              133    Male          1       Divorced   \n",
       "105    59  Human Resources              140  Female          5        Married   \n",
       "112    54  Human Resources              148  Female          4         Single   \n",
       "134    26  Human Resources              177  Female          1        Married   \n",
       "...   ...              ...              ...     ...        ...            ...   \n",
       "1379   27  Human Resources             1944  Female          1        Married   \n",
       "1400   38  Human Resources             1972    Male          1        Married   \n",
       "1401   55  Human Resources             1973    Male          5        Married   \n",
       "1411   25  Human Resources             1987  Female          1        Married   \n",
       "1450   35  Human Resources             2040  Female          3         Single   \n",
       "\n",
       "     over_time  performance_rating  totalW_working_years  \\\n",
       "79         Yes                   4                    16   \n",
       "100        Yes                   4                     7   \n",
       "105         No                   4                    30   \n",
       "112        Yes                   3                    23   \n",
       "134         No                   4                     8   \n",
       "...        ...                 ...                   ...   \n",
       "1379        No                   3                     1   \n",
       "1400       Yes                   3                     7   \n",
       "1401       Yes                   3                    35   \n",
       "1411        No                   3                     6   \n",
       "1450       Yes                   3                     9   \n",
       "\n",
       "      training_times_last_year  years_since_last_promotion  \\\n",
       "79                           2                           0   \n",
       "100                          3                           0   \n",
       "105                          3                           2   \n",
       "112                          3                           4   \n",
       "134                          3                           5   \n",
       "...                        ...                         ...   \n",
       "1379                         2                           0   \n",
       "1400                         2                           1   \n",
       "1401                         0                           1   \n",
       "1411                         3                           1   \n",
       "1450                         2                           1   \n",
       "\n",
       "      years_with_curr_manager  monthly_income  salary_2017  salary_2018  \\\n",
       "79                          2            5021        60252     73507.44   \n",
       "100                         2            2073        24876     30348.72   \n",
       "105                         2           18844       226128    273614.88   \n",
       "112                         4           17328       207936    232888.32   \n",
       "134                         7            2942        35304     43423.92   \n",
       "...                       ...             ...          ...          ...   \n",
       "1379                        0            2863        34356     38478.72   \n",
       "1400                        2            2991        35892     39840.12   \n",
       "1401                        4           19636       235632    278045.76   \n",
       "1411                        2            2187        26244     29918.16   \n",
       "1450                        7            8837       106044    123011.04   \n",
       "\n",
       "      year_of_joining  last_role_change  percent_hike  \n",
       "79               2014              2016            22  \n",
       "100              2015              2016            22  \n",
       "105              2015              2016            21  \n",
       "112              2013              2015            12  \n",
       "134              2010              2011            23  \n",
       "...               ...               ...           ...  \n",
       "1379             2017              2018            12  \n",
       "1400             2012              2016            11  \n",
       "1401             2008              2009            18  \n",
       "1411             2016              2018            14  \n",
       "1450             2009              2018            16  \n",
       "\n",
       "[63 rows x 18 columns]"
      ]
     },
     "execution_count": 5,
     "metadata": {},
     "output_type": "execute_result"
    }
   ],
   "source": [
    "df1=df[df.department==\"Human Resources\"]\n",
    "df1"
   ]
  },
  {
   "cell_type": "code",
   "execution_count": 8,
   "id": "8d2c6585",
   "metadata": {},
   "outputs": [],
   "source": [
    "import matplotlib.pyplot as plt\n",
    "%matplotlib inline"
   ]
  },
  {
   "cell_type": "code",
   "execution_count": 9,
   "id": "3af1f6b5",
   "metadata": {},
   "outputs": [
    {
     "data": {
      "text/plain": [
       "<Axes: >"
      ]
     },
     "execution_count": 9,
     "metadata": {},
     "output_type": "execute_result"
    },
    {
     "data": {
      "image/png": "[encoded data removed]",
      "text/plain": [
       "<Figure size 640x480 with 1 Axes>"
      ]
     },
     "metadata": {},
     "output_type": "display_data"
    }
   ],
   "source": [
    "df1.boxplot(column=\"salary_2018\")"
   ]
  },
  {
   "cell_type": "code",
   "execution_count": 11,
   "id": "cccf4c6e",
   "metadata": {},
   "outputs": [
    {
     "data": {
      "text/plain": [
       "79     -0.229294\n",
       "100    -0.774702\n",
       "105     2.299517\n",
       "112     1.784844\n",
       "134    -0.609467\n",
       "          ...   \n",
       "1379   -0.671961\n",
       "1400   -0.654757\n",
       "1401    2.355511\n",
       "1411   -0.780143\n",
       "1450    0.396296\n",
       "Name: salary_2018, Length: 63, dtype: float64"
      ]
     },
     "execution_count": 11,
     "metadata": {},
     "output_type": "execute_result"
    }
   ],
   "source": [
    "from scipy import stats\n",
    "z=stats.zscore(df1[\"salary_2018\"])\n",
    "z"
   ]
  },
  {
   "cell_type": "code",
   "execution_count": 12,
   "id": "ded73413",
   "metadata": {},
   "outputs": [
    {
     "name": "stdout",
     "output_type": "stream",
     "text": [
      "Series([], Name: salary_2018, dtype: float64)\n"
     ]
    }
   ],
   "source": [
    "print(z[z>3])"
   ]
  },
  {
   "cell_type": "code",
   "execution_count": 14,
   "id": "728b8cbc",
   "metadata": {},
   "outputs": [
    {
     "name": "stdout",
     "output_type": "stream",
     "text": [
      "Series([], Name: salary_2018, dtype: float64)\n"
     ]
    }
   ],
   "source": [
    "print(z[z<-3])"
   ]
  },
  {
   "cell_type": "code",
   "execution_count": 15,
   "id": "d13e44a7",
   "metadata": {},
   "outputs": [],
   "source": [
    "df2=df1.copy()"
   ]
  },
  {
   "cell_type": "code",
   "execution_count": 16,
   "id": "0a17476d",
   "metadata": {},
   "outputs": [
    {
     "name": "stderr",
     "output_type": "stream",
     "text": [
      "C:\\Users\\pbbha\\AppData\\Local\\Temp\\ipykernel_5660\\284319945.py:1: SettingWithCopyWarning: \n",
      "A value is trying to be set on a copy of a slice from a DataFrame\n",
      "\n",
      "See the caveats in the documentation: https://pandas.pydata.org/pandas-docs/stable/user_guide/indexing.html#returning-a-view-versus-a-copy\n",
      "  df2.salary_2018[df2.salary_2018>230000]=df2[\"salary_2018\"].mean()\n"
     ]
    }
   ],
   "source": [
    "df2.salary_2018[df2.salary_2018>230000]=df2[\"salary_2018\"].mean()"
   ]
  },
  {
   "cell_type": "code",
   "execution_count": 17,
   "id": "d8796940",
   "metadata": {},
   "outputs": [
    {
     "data": {
      "text/plain": [
       "<Axes: >"
      ]
     },
     "execution_count": 17,
     "metadata": {},
     "output_type": "execute_result"
    },
    {
     "data": {
      "image/png": "[encoded data removed]",
      "text/plain": [
       "<Figure size 640x480 with 1 Axes>"
      ]
     },
     "metadata": {},
     "output_type": "display_data"
    }
   ],
   "source": [
    "df2.boxplot(column=\"salary_2018\")"
   ]
  },
  {
   "cell_type": "code",
   "execution_count": 18,
   "id": "5ce2878b",
   "metadata": {},
   "outputs": [
    {
     "name": "stderr",
     "output_type": "stream",
     "text": [
      "C:\\Users\\pbbha\\AppData\\Local\\Temp\\ipykernel_5660\\3015668073.py:1: SettingWithCopyWarning: \n",
      "A value is trying to be set on a copy of a slice from a DataFrame\n",
      "\n",
      "See the caveats in the documentation: https://pandas.pydata.org/pandas-docs/stable/user_guide/indexing.html#returning-a-view-versus-a-copy\n",
      "  df2.salary_2018[df2.salary_2018>230000]=df2[\"salary_2018\"].median()\n"
     ]
    }
   ],
   "source": [
    "df2.salary_2018[df2.salary_2018>230000]=df2[\"salary_2018\"].median()"
   ]
  },
  {
   "cell_type": "code",
   "execution_count": 19,
   "id": "8c26e52c",
   "metadata": {},
   "outputs": [
    {
     "data": {
      "text/plain": [
       "<Axes: >"
      ]
     },
     "execution_count": 19,
     "metadata": {},
     "output_type": "execute_result"
    },
    {
     "data": {
      "image/png": "[encoded data removed]",
      "text/plain": [
       "<Figure size 640x480 with 1 Axes>"
      ]
     },
     "metadata": {},
     "output_type": "display_data"
    }
   ],
   "source": [
    "df2.boxplot(column=\"salary_2018\")"
   ]
  },
  {
   "cell_type": "code",
   "execution_count": 20,
   "id": "a824acc0",
   "metadata": {},
   "outputs": [],
   "source": [
    "df2=df1.copy()"
   ]
  },
  {
   "cell_type": "code",
   "execution_count": 21,
   "id": "736e8194",
   "metadata": {},
   "outputs": [
    {
     "data": {
      "text/plain": [
       "0.00     13439.880\n",
       "0.05     28903.158\n",
       "0.10     31890.588\n",
       "0.15     34468.182\n",
       "0.20     37347.984\n",
       "0.25     40254.600\n",
       "0.30     45968.160\n",
       "0.35     52433.856\n",
       "0.40     58366.368\n",
       "0.45     63153.342\n",
       "0.50     68369.400\n",
       "0.55     73258.680\n",
       "0.60     79077.024\n",
       "0.65     88071.228\n",
       "0.70     95971.344\n",
       "0.75    114802.560\n",
       "0.80    135763.296\n",
       "0.85    154534.506\n",
       "0.90    192803.976\n",
       "0.95    247332.492\n",
       "1.00    295323.360\n",
       "Name: salary_2018, dtype: float64"
      ]
     },
     "execution_count": 21,
     "metadata": {},
     "output_type": "execute_result"
    }
   ],
   "source": [
    "df.salary_2018.quantile([0,.05,.1,.15,.2,.25,.3,.35,.4,.45,.5,.55,.6,.65,.7,.75,.8,.85,.9,.95,1])"
   ]
  },
  {
   "cell_type": "code",
   "execution_count": 49,
   "id": "bf98b3be",
   "metadata": {},
   "outputs": [],
   "source": [
    "df2.salary_2018=df2.salary_2018.clip(df2.salary_2018.quantile(0),df2.salary_2018.quantile(0.85))"
   ]
  },
  {
   "cell_type": "code",
   "execution_count": 50,
   "id": "60a9b701",
   "metadata": {},
   "outputs": [
    {
     "data": {
      "text/plain": [
       "<Axes: >"
      ]
     },
     "execution_count": 50,
     "metadata": {},
     "output_type": "execute_result"
    },
    {
     "data": {
      "image/png": "[encoded data removed]",
      "text/plain": [
       "<Figure size 640x480 with 1 Axes>"
      ]
     },
     "metadata": {},
     "output_type": "display_data"
    }
   ],
   "source": [
    "df2.boxplot(column=\"salary_2018\")"
   ]
  },
  {
   "cell_type": "code",
   "execution_count": 26,
   "id": "74b8f366",
   "metadata": {},
   "outputs": [
    {
     "data": {
      "text/html": [
       "<div>\n",
       "<style scoped>\n",
       "    .dataframe tbody tr th:only-of-type {\n",
       "        vertical-align: middle;\n",
       "    }\n",
       "\n",
       "    .dataframe tbody tr th {\n",
       "        vertical-align: top;\n",
       "    }\n",
       "\n",
       "    .dataframe thead th {\n",
       "        text-align: right;\n",
       "    }\n",
       "</style>\n",
       "<table border=\"1\" class=\"dataframe\">\n",
       "  <thead>\n",
       "    <tr style=\"text-align: right;\">\n",
       "      <th></th>\n",
       "      <th>age</th>\n",
       "      <th>department</th>\n",
       "      <th>employee_number</th>\n",
       "      <th>gender</th>\n",
       "      <th>job_level</th>\n",
       "      <th>marital_status</th>\n",
       "      <th>over_time</th>\n",
       "      <th>performance_rating</th>\n",
       "      <th>totalW_working_years</th>\n",
       "      <th>training_times_last_year</th>\n",
       "      <th>years_since_last_promotion</th>\n",
       "      <th>years_with_curr_manager</th>\n",
       "      <th>monthly_income</th>\n",
       "      <th>salary_2017</th>\n",
       "      <th>salary_2018</th>\n",
       "      <th>year_of_joining</th>\n",
       "      <th>last_role_change</th>\n",
       "      <th>percent_hike</th>\n",
       "    </tr>\n",
       "  </thead>\n",
       "  <tbody>\n",
       "    <tr>\n",
       "      <th>0</th>\n",
       "      <td>41</td>\n",
       "      <td>Sales</td>\n",
       "      <td>1</td>\n",
       "      <td>Female</td>\n",
       "      <td>2</td>\n",
       "      <td>Single</td>\n",
       "      <td>Yes</td>\n",
       "      <td>3</td>\n",
       "      <td>8</td>\n",
       "      <td>0</td>\n",
       "      <td>0</td>\n",
       "      <td>5</td>\n",
       "      <td>5993</td>\n",
       "      <td>71916</td>\n",
       "      <td>79826.76</td>\n",
       "      <td>2012</td>\n",
       "      <td>2014</td>\n",
       "      <td>11</td>\n",
       "    </tr>\n",
       "    <tr>\n",
       "      <th>18</th>\n",
       "      <td>53</td>\n",
       "      <td>Sales</td>\n",
       "      <td>23</td>\n",
       "      <td>Female</td>\n",
       "      <td>4</td>\n",
       "      <td>Married</td>\n",
       "      <td>No</td>\n",
       "      <td>3</td>\n",
       "      <td>31</td>\n",
       "      <td>3</td>\n",
       "      <td>3</td>\n",
       "      <td>7</td>\n",
       "      <td>15427</td>\n",
       "      <td>185124</td>\n",
       "      <td>214743.84</td>\n",
       "      <td>1993</td>\n",
       "      <td>2010</td>\n",
       "      <td>16</td>\n",
       "    </tr>\n",
       "    <tr>\n",
       "      <th>21</th>\n",
       "      <td>36</td>\n",
       "      <td>Sales</td>\n",
       "      <td>27</td>\n",
       "      <td>Male</td>\n",
       "      <td>1</td>\n",
       "      <td>Single</td>\n",
       "      <td>No</td>\n",
       "      <td>4</td>\n",
       "      <td>10</td>\n",
       "      <td>4</td>\n",
       "      <td>0</td>\n",
       "      <td>3</td>\n",
       "      <td>3407</td>\n",
       "      <td>40884</td>\n",
       "      <td>50287.32</td>\n",
       "      <td>2013</td>\n",
       "      <td>2015</td>\n",
       "      <td>23</td>\n",
       "    </tr>\n",
       "    <tr>\n",
       "      <th>27</th>\n",
       "      <td>42</td>\n",
       "      <td>Sales</td>\n",
       "      <td>35</td>\n",
       "      <td>Male</td>\n",
       "      <td>2</td>\n",
       "      <td>Married</td>\n",
       "      <td>No</td>\n",
       "      <td>3</td>\n",
       "      <td>10</td>\n",
       "      <td>2</td>\n",
       "      <td>4</td>\n",
       "      <td>2</td>\n",
       "      <td>6825</td>\n",
       "      <td>81900</td>\n",
       "      <td>90909.00</td>\n",
       "      <td>2009</td>\n",
       "      <td>2011</td>\n",
       "      <td>11</td>\n",
       "    </tr>\n",
       "    <tr>\n",
       "      <th>29</th>\n",
       "      <td>46</td>\n",
       "      <td>Sales</td>\n",
       "      <td>38</td>\n",
       "      <td>Female</td>\n",
       "      <td>5</td>\n",
       "      <td>Single</td>\n",
       "      <td>No</td>\n",
       "      <td>3</td>\n",
       "      <td>22</td>\n",
       "      <td>2</td>\n",
       "      <td>2</td>\n",
       "      <td>1</td>\n",
       "      <td>18947</td>\n",
       "      <td>227364</td>\n",
       "      <td>254647.68</td>\n",
       "      <td>2016</td>\n",
       "      <td>2016</td>\n",
       "      <td>12</td>\n",
       "    </tr>\n",
       "    <tr>\n",
       "      <th>...</th>\n",
       "      <td>...</td>\n",
       "      <td>...</td>\n",
       "      <td>...</td>\n",
       "      <td>...</td>\n",
       "      <td>...</td>\n",
       "      <td>...</td>\n",
       "      <td>...</td>\n",
       "      <td>...</td>\n",
       "      <td>...</td>\n",
       "      <td>...</td>\n",
       "      <td>...</td>\n",
       "      <td>...</td>\n",
       "      <td>...</td>\n",
       "      <td>...</td>\n",
       "      <td>...</td>\n",
       "      <td>...</td>\n",
       "      <td>...</td>\n",
       "      <td>...</td>\n",
       "    </tr>\n",
       "    <tr>\n",
       "      <th>1454</th>\n",
       "      <td>45</td>\n",
       "      <td>Sales</td>\n",
       "      <td>2046</td>\n",
       "      <td>Female</td>\n",
       "      <td>2</td>\n",
       "      <td>Single</td>\n",
       "      <td>No</td>\n",
       "      <td>3</td>\n",
       "      <td>8</td>\n",
       "      <td>3</td>\n",
       "      <td>0</td>\n",
       "      <td>1</td>\n",
       "      <td>4850</td>\n",
       "      <td>58200</td>\n",
       "      <td>66930.00</td>\n",
       "      <td>2013</td>\n",
       "      <td>2015</td>\n",
       "      <td>15</td>\n",
       "    </tr>\n",
       "    <tr>\n",
       "      <th>1461</th>\n",
       "      <td>50</td>\n",
       "      <td>Sales</td>\n",
       "      <td>2055</td>\n",
       "      <td>Male</td>\n",
       "      <td>3</td>\n",
       "      <td>Divorced</td>\n",
       "      <td>Yes</td>\n",
       "      <td>3</td>\n",
       "      <td>20</td>\n",
       "      <td>3</td>\n",
       "      <td>2</td>\n",
       "      <td>0</td>\n",
       "      <td>10854</td>\n",
       "      <td>130248</td>\n",
       "      <td>147180.24</td>\n",
       "      <td>2015</td>\n",
       "      <td>2016</td>\n",
       "      <td>13</td>\n",
       "    </tr>\n",
       "    <tr>\n",
       "      <th>1462</th>\n",
       "      <td>39</td>\n",
       "      <td>Sales</td>\n",
       "      <td>2056</td>\n",
       "      <td>Female</td>\n",
       "      <td>4</td>\n",
       "      <td>Married</td>\n",
       "      <td>No</td>\n",
       "      <td>3</td>\n",
       "      <td>21</td>\n",
       "      <td>2</td>\n",
       "      <td>9</td>\n",
       "      <td>6</td>\n",
       "      <td>12031</td>\n",
       "      <td>144372</td>\n",
       "      <td>160252.92</td>\n",
       "      <td>1998</td>\n",
       "      <td>2009</td>\n",
       "      <td>11</td>\n",
       "    </tr>\n",
       "    <tr>\n",
       "      <th>1464</th>\n",
       "      <td>26</td>\n",
       "      <td>Sales</td>\n",
       "      <td>2060</td>\n",
       "      <td>Female</td>\n",
       "      <td>1</td>\n",
       "      <td>Single</td>\n",
       "      <td>No</td>\n",
       "      <td>3</td>\n",
       "      <td>5</td>\n",
       "      <td>2</td>\n",
       "      <td>0</td>\n",
       "      <td>0</td>\n",
       "      <td>2966</td>\n",
       "      <td>35592</td>\n",
       "      <td>41998.56</td>\n",
       "      <td>2014</td>\n",
       "      <td>2016</td>\n",
       "      <td>18</td>\n",
       "    </tr>\n",
       "    <tr>\n",
       "      <th>1468</th>\n",
       "      <td>49</td>\n",
       "      <td>Sales</td>\n",
       "      <td>2065</td>\n",
       "      <td>Male</td>\n",
       "      <td>2</td>\n",
       "      <td>Married</td>\n",
       "      <td>No</td>\n",
       "      <td>3</td>\n",
       "      <td>17</td>\n",
       "      <td>3</td>\n",
       "      <td>0</td>\n",
       "      <td>8</td>\n",
       "      <td>5390</td>\n",
       "      <td>64680</td>\n",
       "      <td>73735.20</td>\n",
       "      <td>2009</td>\n",
       "      <td>2012</td>\n",
       "      <td>14</td>\n",
       "    </tr>\n",
       "  </tbody>\n",
       "</table>\n",
       "<p>446 rows × 18 columns</p>\n",
       "</div>"
      ],
      "text/plain": [
       "      age department  employee_number  gender  job_level marital_status  \\\n",
       "0      41      Sales                1  Female          2         Single   \n",
       "18     53      Sales               23  Female          4        Married   \n",
       "21     36      Sales               27    Male          1         Single   \n",
       "27     42      Sales               35    Male          2        Married   \n",
       "29     46      Sales               38  Female          5         Single   \n",
       "...   ...        ...              ...     ...        ...            ...   \n",
       "1454   45      Sales             2046  Female          2         Single   \n",
       "1461   50      Sales             2055    Male          3       Divorced   \n",
       "1462   39      Sales             2056  Female          4        Married   \n",
       "1464   26      Sales             2060  Female          1         Single   \n",
       "1468   49      Sales             2065    Male          2        Married   \n",
       "\n",
       "     over_time  performance_rating  totalW_working_years  \\\n",
       "0          Yes                   3                     8   \n",
       "18          No                   3                    31   \n",
       "21          No                   4                    10   \n",
       "27          No                   3                    10   \n",
       "29          No                   3                    22   \n",
       "...        ...                 ...                   ...   \n",
       "1454        No                   3                     8   \n",
       "1461       Yes                   3                    20   \n",
       "1462        No                   3                    21   \n",
       "1464        No                   3                     5   \n",
       "1468        No                   3                    17   \n",
       "\n",
       "      training_times_last_year  years_since_last_promotion  \\\n",
       "0                            0                           0   \n",
       "18                           3                           3   \n",
       "21                           4                           0   \n",
       "27                           2                           4   \n",
       "29                           2                           2   \n",
       "...                        ...                         ...   \n",
       "1454                         3                           0   \n",
       "1461                         3                           2   \n",
       "1462                         2                           9   \n",
       "1464                         2                           0   \n",
       "1468                         3                           0   \n",
       "\n",
       "      years_with_curr_manager  monthly_income  salary_2017  salary_2018  \\\n",
       "0                           5            5993        71916     79826.76   \n",
       "18                          7           15427       185124    214743.84   \n",
       "21                          3            3407        40884     50287.32   \n",
       "27                          2            6825        81900     90909.00   \n",
       "29                          1           18947       227364    254647.68   \n",
       "...                       ...             ...          ...          ...   \n",
       "1454                        1            4850        58200     66930.00   \n",
       "1461                        0           10854       130248    147180.24   \n",
       "1462                        6           12031       144372    160252.92   \n",
       "1464                        0            2966        35592     41998.56   \n",
       "1468                        8            5390        64680     73735.20   \n",
       "\n",
       "      year_of_joining  last_role_change  percent_hike  \n",
       "0                2012              2014            11  \n",
       "18               1993              2010            16  \n",
       "21               2013              2015            23  \n",
       "27               2009              2011            11  \n",
       "29               2016              2016            12  \n",
       "...               ...               ...           ...  \n",
       "1454             2013              2015            15  \n",
       "1461             2015              2016            13  \n",
       "1462             1998              2009            11  \n",
       "1464             2014              2016            18  \n",
       "1468             2009              2012            14  \n",
       "\n",
       "[446 rows x 18 columns]"
      ]
     },
     "execution_count": 26,
     "metadata": {},
     "output_type": "execute_result"
    }
   ],
   "source": [
    "df1=df[df.department==\"Sales\"]\n",
    "df1"
   ]
  },
  {
   "cell_type": "code",
   "execution_count": 27,
   "id": "048595aa",
   "metadata": {},
   "outputs": [
    {
     "data": {
      "text/plain": [
       "<Axes: >"
      ]
     },
     "execution_count": 27,
     "metadata": {},
     "output_type": "execute_result"
    },
    {
     "data": {
      "image/png": "[encoded data removed]",
      "text/plain": [
       "<Figure size 640x480 with 1 Axes>"
      ]
     },
     "metadata": {},
     "output_type": "display_data"
    }
   ],
   "source": [
    "df1.boxplot(column=\"salary_2018\")"
   ]
  },
  {
   "cell_type": "code",
   "execution_count": 28,
   "id": "3121d627",
   "metadata": {},
   "outputs": [
    {
     "data": {
      "text/plain": [
       "0      -0.288960\n",
       "18      2.121237\n",
       "21     -0.816661\n",
       "27     -0.090984\n",
       "29      2.834091\n",
       "          ...   \n",
       "1454   -0.519352\n",
       "1461    0.914262\n",
       "1462    1.147796\n",
       "1464   -0.964734\n",
       "1468   -0.397782\n",
       "Name: salary_2018, Length: 446, dtype: float64"
      ]
     },
     "execution_count": 28,
     "metadata": {},
     "output_type": "execute_result"
    }
   ],
   "source": [
    "from scipy import stats\n",
    "z=stats.zscore(df1[\"salary_2018\"])\n",
    "z"
   ]
  },
  {
   "cell_type": "code",
   "execution_count": 29,
   "id": "c4dc10ad",
   "metadata": {},
   "outputs": [
    {
     "name": "stdout",
     "output_type": "stream",
     "text": [
      "237     3.108401\n",
      "749     3.177323\n",
      "918     3.560733\n",
      "1116    3.365393\n",
      "1126    3.092048\n",
      "1242    3.131848\n",
      "Name: salary_2018, dtype: float64\n"
     ]
    }
   ],
   "source": [
    "print(z[z>3])"
   ]
  },
  {
   "cell_type": "code",
   "execution_count": 30,
   "id": "9180d53d",
   "metadata": {},
   "outputs": [
    {
     "name": "stdout",
     "output_type": "stream",
     "text": [
      "Series([], Name: salary_2018, dtype: float64)\n"
     ]
    }
   ],
   "source": [
    "print(z[z<-3])"
   ]
  },
  {
   "cell_type": "code",
   "execution_count": 31,
   "id": "96f6f18a",
   "metadata": {},
   "outputs": [],
   "source": [
    "df2=df1.copy()"
   ]
  },
  {
   "cell_type": "code",
   "execution_count": 36,
   "id": "e70bc2aa",
   "metadata": {},
   "outputs": [
    {
     "name": "stderr",
     "output_type": "stream",
     "text": [
      "C:\\Users\\pbbha\\AppData\\Local\\Temp\\ipykernel_5660\\2738181230.py:1: SettingWithCopyWarning: \n",
      "A value is trying to be set on a copy of a slice from a DataFrame\n",
      "\n",
      "See the caveats in the documentation: https://pandas.pydata.org/pandas-docs/stable/user_guide/indexing.html#returning-a-view-versus-a-copy\n",
      "  df2.salary_2018[df2.salary_2018>200000]=df2[\"salary_2018\"].mean()\n"
     ]
    }
   ],
   "source": [
    "df2.salary_2018[df2.salary_2018>200000]=df2[\"salary_2018\"].mean()"
   ]
  },
  {
   "cell_type": "code",
   "execution_count": 37,
   "id": "2713de61",
   "metadata": {},
   "outputs": [
    {
     "data": {
      "text/plain": [
       "<Axes: >"
      ]
     },
     "execution_count": 37,
     "metadata": {},
     "output_type": "execute_result"
    },
    {
     "data": {
      "image/png": "[encoded data removed]",
      "text/plain": [
       "<Figure size 640x480 with 1 Axes>"
      ]
     },
     "metadata": {},
     "output_type": "display_data"
    }
   ],
   "source": [
    "df2.boxplot(column=\"salary_2018\")"
   ]
  },
  {
   "cell_type": "code",
   "execution_count": 38,
   "id": "399611cf",
   "metadata": {},
   "outputs": [
    {
     "name": "stderr",
     "output_type": "stream",
     "text": [
      "C:\\Users\\pbbha\\AppData\\Local\\Temp\\ipykernel_5660\\2499212612.py:1: SettingWithCopyWarning: \n",
      "A value is trying to be set on a copy of a slice from a DataFrame\n",
      "\n",
      "See the caveats in the documentation: https://pandas.pydata.org/pandas-docs/stable/user_guide/indexing.html#returning-a-view-versus-a-copy\n",
      "  df2.salary_2018[df2.salary_2018>200000]=df2[\"salary_2018\"].median()\n"
     ]
    }
   ],
   "source": [
    "df2.salary_2018[df2.salary_2018>200000]=df2[\"salary_2018\"].median()"
   ]
  },
  {
   "cell_type": "code",
   "execution_count": 35,
   "id": "9635fd0f",
   "metadata": {},
   "outputs": [
    {
     "data": {
      "text/plain": [
       "<Axes: >"
      ]
     },
     "execution_count": 35,
     "metadata": {},
     "output_type": "execute_result"
    },
    {
     "data": {
      "image/png": "[encoded data removed]",
      "text/plain": [
       "<Figure size 640x480 with 1 Axes>"
      ]
     },
     "metadata": {},
     "output_type": "display_data"
    }
   ],
   "source": [
    "df2.boxplot(column=\"salary_2018\")"
   ]
  },
  {
   "cell_type": "code",
   "execution_count": 39,
   "id": "214e9245",
   "metadata": {},
   "outputs": [],
   "source": [
    "df2=df1.copy()"
   ]
  },
  {
   "cell_type": "code",
   "execution_count": 40,
   "id": "12f7abd6",
   "metadata": {},
   "outputs": [
    {
     "data": {
      "text/plain": [
       "0.00     13439.880\n",
       "0.05     28903.158\n",
       "0.10     31890.588\n",
       "0.15     34468.182\n",
       "0.20     37347.984\n",
       "0.25     40254.600\n",
       "0.30     45968.160\n",
       "0.35     52433.856\n",
       "0.40     58366.368\n",
       "0.45     63153.342\n",
       "0.50     68369.400\n",
       "0.55     73258.680\n",
       "0.60     79077.024\n",
       "0.65     88071.228\n",
       "0.70     95971.344\n",
       "0.75    114802.560\n",
       "0.80    135763.296\n",
       "0.85    154534.506\n",
       "0.90    192803.976\n",
       "0.95    247332.492\n",
       "1.00    295323.360\n",
       "Name: salary_2018, dtype: float64"
      ]
     },
     "execution_count": 40,
     "metadata": {},
     "output_type": "execute_result"
    }
   ],
   "source": [
    "df.salary_2018.quantile([0,.05,.1,.15,.2,.25,.3,.35,.4,.45,.5,.55,.6,.65,.7,.75,.8,.85,.9,.95,1])"
   ]
  },
  {
   "cell_type": "code",
   "execution_count": 47,
   "id": "505906b2",
   "metadata": {},
   "outputs": [],
   "source": [
    "df2.salary_2018=df2.salary_2018.clip(df2.salary_2018.quantile(0),df2.salary_2018.quantile(0.9))"
   ]
  },
  {
   "cell_type": "code",
   "execution_count": 48,
   "id": "17c4b866",
   "metadata": {},
   "outputs": [
    {
     "data": {
      "text/plain": [
       "<Axes: >"
      ]
     },
     "execution_count": 48,
     "metadata": {},
     "output_type": "execute_result"
    },
    {
     "data": {
      "image/png": "[encoded data removed]",
      "text/plain": [
       "<Figure size 640x480 with 1 Axes>"
      ]
     },
     "metadata": {},
     "output_type": "display_data"
    }
   ],
   "source": [
    "df2.boxplot(column=\"salary_2018\")"
   ]
  }
 ],
 "metadata": {
  "kernelspec": {
   "display_name": "Python 3 (ipykernel)",
   "language": "python",
   "name": "python3"
  },
  "language_info": {
   "codemirror_mode": {
    "name": "ipython",
    "version": 3
   },
   "file_extension": ".py",
   "mimetype": "text/x-python",
   "name": "python",
   "nbconvert_exporter": "python",
   "pygments_lexer": "ipython3",
   "version": "3.11.4"
  }
 },
 "nbformat": 4,
 "nbformat_minor": 5
}
